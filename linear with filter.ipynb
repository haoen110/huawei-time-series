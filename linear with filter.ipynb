{
 "cells": [
  {
   "cell_type": "code",
   "execution_count": 1,
   "metadata": {},
   "outputs": [],
   "source": [
    "import os\n",
    "import numpy as np\n",
    "import pandas as pd\n",
    "import matplotlib.pyplot as plt\n",
    "from sklearn.model_selection import train_test_split\n",
    "from sklearn.preprocessing import StandardScaler, MinMaxScaler\n",
    "%config InlineBackend.figure_format = 'retina'"
   ]
  },
  {
   "cell_type": "code",
   "execution_count": 2,
   "metadata": {},
   "outputs": [
    {
     "name": "stdout",
     "output_type": "stream",
     "text": [
      "1146 files\n"
     ]
    }
   ],
   "source": [
    "data_path = 'C:/Users/CRH/Desktop/cityu/huawei/Time Series Forecasting/Small Sample Time Series Forecasting/Time_Series'\n",
    "fnames = [fname for fname in os.listdir(data_path) if os.path.isfile(os.path.join(data_path, fname))]\n",
    "print(len(fnames), \"files\")"
   ]
  },
  {
   "cell_type": "code",
   "execution_count": 3,
   "metadata": {},
   "outputs": [],
   "source": [
    "def process_diagonal_with_last_1_m0():\n",
    "    data_full = []\n",
    "    for fname in fnames:\n",
    "        data = pd.read_csv(os.path.join(data_path, fname), index_col=0)\n",
    "        data = data.drop([' item'], axis=1)\n",
    "        data.columns = ['qty', 'qty1', 'qty2', 'qty3']\n",
    "        data['x1_for_m0'] = data['qty1']\n",
    "        data['x2_for_m0'] = data['qty2'].shift(1, axis=0)\n",
    "        data['x3_for_m0'] = data['qty3'].shift(2, axis=0)\n",
    "        data['x1_for_m1'] = data['qty2']\n",
    "        data['x2_for_m1'] = data['qty3'].shift(2, axis=0)\n",
    "        data['x1_for_m2'] = data['qty3']\n",
    "        data['Last_M0'] = data['qty'].shift(1, axis=0)\n",
    "        data['M0'] = data['qty']\n",
    "        data['M1'] = data['qty'].shift(-1, axis=0)\n",
    "        data['M2'] = data['qty'].shift(-2, axis=0)\n",
    "        data['M3'] = data['qty'].shift(-3, axis=0)\n",
    "        data = data.drop(['qty', 'qty1', 'qty2', 'qty3'], axis=1)\n",
    "        data = data.dropna(how='any', axis=0)\n",
    "\n",
    "        temp = np.zeros((42, 11))  # this should be modified\n",
    "        for i in range(1215, 1257):\n",
    "            try:\n",
    "                temp[i-1215] = data.loc[i].values\n",
    "            except:\n",
    "                continue\n",
    "        data_full.append(temp)\n",
    "    return data_full"
   ]
  },
  {
   "cell_type": "code",
   "execution_count": 4,
   "metadata": {},
   "outputs": [],
   "source": [
    "def process_diagonal(past_m0=0):\n",
    "    data_full = []\n",
    "    if past_m0 <= 2:\n",
    "        row = 42\n",
    "        start_period = 1215\n",
    "    else:\n",
    "        row = 42 - past_m0\n",
    "        start_period = 1215 + (past_m0-2)\n",
    "    col = 10 + past_m0\n",
    "    for fname in fnames:\n",
    "        data = pd.read_csv(os.path.join(data_path, fname), index_col=0)\n",
    "        data = data.drop([' item'], axis=1)\n",
    "        data.columns = ['qty', 'qty1', 'qty2', 'qty3']\n",
    "        data['x1_for_m0'] = data['qty1']\n",
    "        data['x2_for_m0'] = data['qty2'].shift(1, axis=0)\n",
    "        data['x3_for_m0'] = data['qty3'].shift(2, axis=0)\n",
    "        data['x1_for_m1'] = data['qty2']\n",
    "        data['x2_for_m1'] = data['qty3'].shift(2, axis=0)\n",
    "        data['x1_for_m2'] = data['qty3']\n",
    "        for i in range(past_m0):\n",
    "            name = 'Last_M0' + str(i+1)\n",
    "            data[name] = data['qty'].shift(i+1, axis=0)\n",
    "        data['M0'] = data['qty']\n",
    "        data['M1'] = data['qty'].shift(-1, axis=0)\n",
    "        data['M2'] = data['qty'].shift(-2, axis=0)\n",
    "        data['M3'] = data['qty'].shift(-3, axis=0)\n",
    "        data = data.drop(['qty', 'qty1', 'qty2', 'qty3'], axis=1)\n",
    "        data = data.dropna(how='any', axis=0)\n",
    "\n",
    "        temp = np.zeros((row, col))  # this should be modified\n",
    "        for i in range(start_period, 1257):\n",
    "            try:\n",
    "                temp[i-start_period] = data.loc[i].values\n",
    "            except:\n",
    "                continue\n",
    "        data_full.append(temp)\n",
    "    return data_full"
   ]
  },
  {
   "cell_type": "code",
   "execution_count": 5,
   "metadata": {},
   "outputs": [],
   "source": [
    "# data_full = process_original_with_last_1_m0()\n",
    "data_full = process_diagonal(1)"
   ]
  },
  {
   "cell_type": "code",
   "execution_count": 6,
   "metadata": {},
   "outputs": [
    {
     "name": "stdout",
     "output_type": "stream",
     "text": [
      "The shape of X_train: (41256, 4)\n",
      "The shape of Y_train: (41256,)\n",
      "The shape of X_test: (6876, 4)\n",
      "The shape of Y_train: (6876,)\n"
     ]
    }
   ],
   "source": [
    "def split_m0(past_days):\n",
    "#     split_ind = 38  # if original\n",
    "    split_ind = 36  # if digonal\n",
    "    X_train, Y_train = [], []\n",
    "    X_test, Y_test = [], []\n",
    "\n",
    "    for ind in range(past_days, split_ind):\n",
    "        for item_ind in range(len(fnames)):\n",
    "            X_train.append(data_full[item_ind][ind - past_days: ind + 1][:,[0,1,2,6]])\n",
    "            Y_train.append(data_full[item_ind][ind][-4]) # change the number of y\n",
    "\n",
    "    for ind in range(split_ind, split_ind + 6):\n",
    "        for item_ind in range(len(fnames)):\n",
    "            X_test.append(data_full[item_ind][ind - past_days: ind + 1][:,[0,1,2,6]])\n",
    "            Y_test.append(data_full[item_ind][ind][-4]) # change the number of y\n",
    "    X_train, Y_train = np.array(X_train), np.array(Y_train)\n",
    "    X_test, Y_test = np.array(X_test), np.array(Y_test)\n",
    "    if past_days == 0:\n",
    "        X_train, Y_train, X_test, Y_test = \\\n",
    "        np.squeeze(X_train), np.squeeze(Y_train), np.squeeze(X_test), np.squeeze(Y_test) \n",
    "    print(\"The shape of X_train:\", X_train.shape)\n",
    "    print(\"The shape of Y_train:\", Y_train.shape)\n",
    "    print(\"The shape of X_test:\", X_test.shape)\n",
    "    print(\"The shape of Y_train:\", Y_test.shape)\n",
    "    return X_train, Y_train, X_test, Y_test\n",
    "\n",
    "X_train, Y_train, X_test, Y_test = split_m0(0) \n",
    "Y_test=Y_test.reshape(-1,1)"
   ]
  },
  {
   "cell_type": "code",
   "execution_count": 7,
   "metadata": {},
   "outputs": [],
   "source": [
    "import sklearn.preprocessing\n",
    "from sklearn.linear_model import Lars\n",
    "from sklearn.linear_model import Lars,Lasso,Ridge,RidgeCV,LinearRegression\n",
    "from sklearn.tree import DecisionTreeRegressor\n",
    "from sklearn.model_selection import GridSearchCV\n",
    "from sklearn.preprocessing import PolynomialFeatures"
   ]
  },
  {
   "cell_type": "code",
   "execution_count": 49,
   "metadata": {},
   "outputs": [],
   "source": [
    "def acc_out(item_index):\n",
    "    item_ytest = []\n",
    "    item_ypred = []\n",
    "    count = 0\n",
    "    for i in range(6):\n",
    "        item_ytest.append(Y_test[item_index+count*1146])\n",
    "        item_ypred.append(Y_pred_test[item_index+count*1146])\n",
    "        count += 1\n",
    "    acc = []\n",
    "    for i in range(6):\n",
    "        for index, value in enumerate(item_ypred[i]): \n",
    "            if  max(item_ytest[i][index], item_ypred[i][index]) == 0:\n",
    "                acc.append(np.nan)\n",
    "                continue\n",
    "            acc.append(np.divide(min(item_ytest[i][index], item_ypred[i][index]),\n",
    "                                 max(item_ytest[i][index], item_ypred[i][index])))\n",
    "    acc = np.array(acc)\n",
    "    acc = acc.reshape(6, 1)\n",
    "    return acc"
   ]
  },
  {
   "cell_type": "code",
   "execution_count": 8,
   "metadata": {},
   "outputs": [],
   "source": [
    "def my_acc(Y_pred_test, Y_test):\n",
    "    acc = []\n",
    "    for index, value in enumerate(Y_pred_test):\n",
    "        if max(Y_test[index], Y_pred_test[index]) == 0:\n",
    "            acc.append(np.nan)\n",
    "            continue\n",
    "        acc.append((min(Y_test[index], Y_pred_test[index])/max(Y_test[index], Y_pred_test[index]))[0])\n",
    "    return np.nanmean(acc)"
   ]
  },
  {
   "cell_type": "markdown",
   "metadata": {},
   "source": [
    "# Prediction of M0"
   ]
  },
  {
   "cell_type": "code",
   "execution_count": 9,
   "metadata": {},
   "outputs": [
    {
     "name": "stdout",
     "output_type": "stream",
     "text": [
      "ACC: 0.6888688619640857\n",
      "                            OLS Regression Results                            \n",
      "==============================================================================\n",
      "Dep. Variable:                      y   R-squared:                       0.820\n",
      "Model:                            OLS   Adj. R-squared:                  0.820\n",
      "Method:                 Least Squares   F-statistic:                 4.712e+04\n",
      "Date:                Fri, 10 Jul 2020   Prob (F-statistic):               0.00\n",
      "Time:                        10:46:51   Log-Likelihood:                 34226.\n",
      "No. Observations:               41256   AIC:                        -6.844e+04\n",
      "Df Residuals:                   41251   BIC:                        -6.840e+04\n",
      "Df Model:                           4                                         \n",
      "Covariance Type:            nonrobust                                         \n",
      "==============================================================================\n",
      "                 coef    std err          t      P>|t|      [0.025      0.975]\n",
      "------------------------------------------------------------------------------\n",
      "const          0.0309      0.001     43.307      0.000       0.029       0.032\n",
      "x1             1.1749      0.004    295.470      0.000       1.167       1.183\n",
      "x2            -0.2070      0.010    -20.374      0.000      -0.227      -0.187\n",
      "x3            -0.0056      0.016     -0.347      0.729      -0.037       0.026\n",
      "x4             0.1450      0.002     58.318      0.000       0.140       0.150\n",
      "==============================================================================\n",
      "Omnibus:                    24400.839   Durbin-Watson:                   1.868\n",
      "Prob(Omnibus):                  0.000   Jarque-Bera (JB):           306274.836\n",
      "Skew:                           2.643   Prob(JB):                         0.00\n",
      "Kurtosis:                      15.256   Cond. No.                         34.9\n",
      "==============================================================================\n",
      "\n",
      "Warnings:\n",
      "[1] Standard Errors assume that the covariance matrix of the errors is correctly specified.\n"
     ]
    }
   ],
   "source": [
    "import statsmodels.api as sm\n",
    "\n",
    "X_train=sm.add_constant(X_train)\n",
    "X_test=sm.add_constant(X_test)\n",
    "model=sm.OLS(Y_train,X_train).fit()\n",
    "Y_pred_test = model.predict(X_test)\n",
    "Y_pred_test=Y_pred_test.reshape(-1,1)\n",
    "Y_pred_test = model.predict(X_test)\n",
    "acc = my_acc(Y_pred_test, Y_test)\n",
    "\n",
    "print_model = model.summary()\n",
    "print('ACC:', acc)\n",
    "print(print_model)"
   ]
  },
  {
   "cell_type": "code",
   "execution_count": 10,
   "metadata": {},
   "outputs": [],
   "source": [
    "Y_pred_test_m0=Y_pred_test\n",
    "Y_pred_m0 = model.predict(X_train)\n",
    "Y_pred_m0=Y_pred_m0.reshape(-1,1)"
   ]
  },
  {
   "cell_type": "code",
   "execution_count": 11,
   "metadata": {},
   "outputs": [
    {
     "data": {
      "text/plain": [
       "(41256, 1)"
      ]
     },
     "execution_count": 11,
     "metadata": {},
     "output_type": "execute_result"
    }
   ],
   "source": [
    "Y_pred_m0.shape"
   ]
  },
  {
   "cell_type": "markdown",
   "metadata": {},
   "source": [
    "# Prediction of M1"
   ]
  },
  {
   "cell_type": "markdown",
   "metadata": {},
   "source": [
    "Prediction of M0 will be used to predict M1."
   ]
  },
  {
   "cell_type": "code",
   "execution_count": 12,
   "metadata": {},
   "outputs": [
    {
     "name": "stdout",
     "output_type": "stream",
     "text": [
      "The shape of X_train: (41256, 4)\n",
      "The shape of Y_train: (41256,)\n",
      "The shape of X_test: (6876, 4)\n",
      "The shape of Y_train: (6876,)\n"
     ]
    }
   ],
   "source": [
    "def split_m1(past_days):\n",
    "#     split_ind = 38  # if original\n",
    "    split_ind = 36  # if digonal\n",
    "    X_train, Y_train = [], []\n",
    "    X_test, Y_test = [], []\n",
    "\n",
    "    for ind in range(past_days, split_ind):\n",
    "        for item_ind in range(len(fnames)):\n",
    "            X_train.append(data_full[item_ind][ind - past_days: ind + 1][:,[3,4,6]])\n",
    "            Y_train.append(data_full[item_ind][ind][-3]) # change the number of y\n",
    "\n",
    "    for ind in range(split_ind, split_ind + 6):\n",
    "        for item_ind in range(len(fnames)):\n",
    "            X_test.append(data_full[item_ind][ind - past_days: ind + 1][:,[3,4,6]])\n",
    "            Y_test.append(data_full[item_ind][ind][-3]) # change the number of y\n",
    "    X_train, Y_train = np.array(X_train), np.array(Y_train)\n",
    "    X_test, Y_test = np.array(X_test), np.array(Y_test)\n",
    "    if past_days == 0:\n",
    "        X_train, Y_train, X_test, Y_test = \\\n",
    "        np.squeeze(X_train), np.squeeze(Y_train), np.squeeze(X_test), np.squeeze(Y_test) \n",
    "    X_train=np.c_[X_train,Y_pred_m0]\n",
    "    X_test=np.c_[X_test,Y_pred_test_m0]\n",
    "    print(\"The shape of X_train:\", X_train.shape)\n",
    "    print(\"The shape of Y_train:\", Y_train.shape)\n",
    "    print(\"The shape of X_test:\", X_test.shape)\n",
    "    print(\"The shape of Y_train:\", Y_test.shape)\n",
    "    return X_train, Y_train, X_test, Y_test\n",
    "\n",
    "X_train, Y_train, X_test, Y_test = split_m1(0) \n",
    "Y_test=Y_test.reshape(-1,1)"
   ]
  },
  {
   "cell_type": "code",
   "execution_count": 13,
   "metadata": {},
   "outputs": [
    {
     "name": "stdout",
     "output_type": "stream",
     "text": [
      "ACC: 0.5700332360656519\n",
      "                            OLS Regression Results                            \n",
      "==============================================================================\n",
      "Dep. Variable:                      y   R-squared:                       0.418\n",
      "Model:                            OLS   Adj. R-squared:                  0.417\n",
      "Method:                 Least Squares   F-statistic:                     7393.\n",
      "Date:                Fri, 10 Jul 2020   Prob (F-statistic):               0.00\n",
      "Time:                        10:47:33   Log-Likelihood:                 9923.0\n",
      "No. Observations:               41256   AIC:                        -1.984e+04\n",
      "Df Residuals:                   41251   BIC:                        -1.979e+04\n",
      "Df Model:                           4                                         \n",
      "Covariance Type:            nonrobust                                         \n",
      "==============================================================================\n",
      "                 coef    std err          t      P>|t|      [0.025      0.975]\n",
      "------------------------------------------------------------------------------\n",
      "const          0.0716      0.001     53.347      0.000       0.069       0.074\n",
      "x1             0.9849      0.013     75.381      0.000       0.959       1.011\n",
      "x2            -0.2987      0.024    -12.674      0.000      -0.345      -0.253\n",
      "x3             0.2611      0.005     52.557      0.000       0.251       0.271\n",
      "x4             0.3103      0.006     53.154      0.000       0.299       0.322\n",
      "==============================================================================\n",
      "Omnibus:                    12557.659   Durbin-Watson:                   1.827\n",
      "Prob(Omnibus):                  0.000   Jarque-Bera (JB):            41660.796\n",
      "Skew:                           1.546   Prob(JB):                         0.00\n",
      "Kurtosis:                       6.831   Cond. No.                         26.6\n",
      "==============================================================================\n",
      "\n",
      "Warnings:\n",
      "[1] Standard Errors assume that the covariance matrix of the errors is correctly specified.\n"
     ]
    }
   ],
   "source": [
    "X_train=sm.add_constant(X_train)\n",
    "X_test=sm.add_constant(X_test)\n",
    "model=sm.OLS(Y_train,X_train).fit()\n",
    "Y_pred_test = model.predict(X_test)\n",
    "Y_pred_test=Y_pred_test.reshape(-1,1)\n",
    "Y_pred_test = model.predict(X_test)\n",
    "acc = my_acc(Y_pred_test, Y_test)\n",
    "\n",
    "print_model = model.summary()\n",
    "print('ACC:', acc)\n",
    "print(print_model)"
   ]
  },
  {
   "cell_type": "code",
   "execution_count": 14,
   "metadata": {},
   "outputs": [],
   "source": [
    "Y_pred_test_m1=Y_pred_test\n",
    "Y_pred_m1 = model.predict(X_train)\n",
    "Y_pred_m1=Y_pred_m1.reshape(-1,1)"
   ]
  },
  {
   "cell_type": "markdown",
   "metadata": {},
   "source": [
    "# Prediction of M2"
   ]
  },
  {
   "cell_type": "markdown",
   "metadata": {},
   "source": [
    "Prediction of M0, M1 will be used to predict M2."
   ]
  },
  {
   "cell_type": "code",
   "execution_count": 15,
   "metadata": {},
   "outputs": [
    {
     "name": "stdout",
     "output_type": "stream",
     "text": [
      "The shape of X_train: (41256, 4)\n",
      "The shape of Y_train: (41256,)\n",
      "The shape of X_test: (6876, 4)\n",
      "The shape of Y_train: (6876,)\n"
     ]
    }
   ],
   "source": [
    "def split_m2(past_days):\n",
    "#     split_ind = 38  # if original\n",
    "    split_ind = 36  # if digonal\n",
    "    X_train, Y_train = [], []\n",
    "    X_test, Y_test = [], []\n",
    "\n",
    "    for ind in range(past_days, split_ind):\n",
    "        for item_ind in range(len(fnames)):\n",
    "            X_train.append(data_full[item_ind][ind - past_days: ind + 1][:,[5,6]])\n",
    "            Y_train.append(data_full[item_ind][ind][-2]) # change the number of y\n",
    "\n",
    "    for ind in range(split_ind, split_ind + 6):\n",
    "        for item_ind in range(len(fnames)):\n",
    "            X_test.append(data_full[item_ind][ind - past_days: ind + 1][:,[5,6]])\n",
    "            Y_test.append(data_full[item_ind][ind][-2]) # change the number of y\n",
    "    X_train, Y_train = np.array(X_train), np.array(Y_train)\n",
    "    X_test, Y_test = np.array(X_test), np.array(Y_test)\n",
    "    if past_days == 0:\n",
    "        X_train, Y_train, X_test, Y_test = \\\n",
    "        np.squeeze(X_train), np.squeeze(Y_train), np.squeeze(X_test), np.squeeze(Y_test) \n",
    "    X_train=np.c_[X_train,Y_pred_m0]\n",
    "    X_train=np.c_[X_train,Y_pred_m1]\n",
    "    X_test=np.c_[X_test,Y_pred_test_m0]\n",
    "    X_test=np.c_[X_test,Y_pred_test_m1]\n",
    "    print(\"The shape of X_train:\", X_train.shape)\n",
    "    print(\"The shape of Y_train:\", Y_train.shape)\n",
    "    print(\"The shape of X_test:\", X_test.shape)\n",
    "    print(\"The shape of Y_train:\", Y_test.shape)\n",
    "    return X_train, Y_train, X_test, Y_test\n",
    "\n",
    "X_train, Y_train, X_test, Y_test = split_m2(0) \n",
    "Y_test=Y_test.reshape(-1,1)"
   ]
  },
  {
   "cell_type": "code",
   "execution_count": 16,
   "metadata": {},
   "outputs": [
    {
     "name": "stdout",
     "output_type": "stream",
     "text": [
      "ACC: 0.5493500017036796\n",
      "                            OLS Regression Results                            \n",
      "==============================================================================\n",
      "Dep. Variable:                      y   R-squared:                       0.334\n",
      "Model:                            OLS   Adj. R-squared:                  0.334\n",
      "Method:                 Least Squares   F-statistic:                     5167.\n",
      "Date:                Fri, 10 Jul 2020   Prob (F-statistic):               0.00\n",
      "Time:                        10:48:01   Log-Likelihood:                 7081.0\n",
      "No. Observations:               41256   AIC:                        -1.415e+04\n",
      "Df Residuals:                   41251   BIC:                        -1.411e+04\n",
      "Df Model:                           4                                         \n",
      "Covariance Type:            nonrobust                                         \n",
      "==============================================================================\n",
      "                 coef    std err          t      P>|t|      [0.025      0.975]\n",
      "------------------------------------------------------------------------------\n",
      "const          0.0785      0.002     43.474      0.000       0.075       0.082\n",
      "x1             1.0509      0.024     43.512      0.000       1.004       1.098\n",
      "x2             0.2731      0.007     40.974      0.000       0.260       0.286\n",
      "x3             0.2420      0.008     29.651      0.000       0.226       0.258\n",
      "x4             0.1097      0.015      7.495      0.000       0.081       0.138\n",
      "==============================================================================\n",
      "Omnibus:                    11306.812   Durbin-Watson:                   1.855\n",
      "Prob(Omnibus):                  0.000   Jarque-Bera (JB):            31860.206\n",
      "Skew:                           1.452   Prob(JB):                         0.00\n",
      "Kurtosis:                       6.178   Cond. No.                         26.5\n",
      "==============================================================================\n",
      "\n",
      "Warnings:\n",
      "[1] Standard Errors assume that the covariance matrix of the errors is correctly specified.\n"
     ]
    }
   ],
   "source": [
    "X_train=sm.add_constant(X_train)\n",
    "X_test=sm.add_constant(X_test)\n",
    "model=sm.OLS(Y_train,X_train).fit()\n",
    "Y_pred_test = model.predict(X_test)\n",
    "Y_pred_test=Y_pred_test.reshape(-1,1)\n",
    "Y_pred_test = model.predict(X_test)\n",
    "acc = my_acc(Y_pred_test, Y_test)\n",
    "\n",
    "print_model = model.summary()\n",
    "print('ACC:', acc)\n",
    "print(print_model)"
   ]
  },
  {
   "cell_type": "code",
   "execution_count": 17,
   "metadata": {},
   "outputs": [],
   "source": [
    "Y_pred_test_m2=Y_pred_test\n",
    "Y_pred_m2 = model.predict(X_train)\n",
    "Y_pred_m2=Y_pred_m1.reshape(-1,1)"
   ]
  },
  {
   "cell_type": "markdown",
   "metadata": {},
   "source": [
    "# Prediction of M3"
   ]
  },
  {
   "cell_type": "markdown",
   "metadata": {},
   "source": [
    "Prediction of M0, M1, M2 will be used to predict M3."
   ]
  },
  {
   "cell_type": "code",
   "execution_count": 18,
   "metadata": {},
   "outputs": [
    {
     "name": "stdout",
     "output_type": "stream",
     "text": [
      "The shape of X_train: (41256, 4)\n",
      "The shape of Y_train: (41256,)\n",
      "The shape of X_test: (6876, 4)\n",
      "The shape of Y_train: (6876,)\n"
     ]
    }
   ],
   "source": [
    "def split_m3(past_days):\n",
    "#     split_ind = 38  # if original\n",
    "    split_ind = 36  # if digonal\n",
    "    X_train, Y_train = [], []\n",
    "    X_test, Y_test = [], []\n",
    "\n",
    "    for ind in range(past_days, split_ind):\n",
    "        for item_ind in range(len(fnames)):\n",
    "            X_train.append(data_full[item_ind][ind - past_days: ind + 1][:,[6]])\n",
    "            Y_train.append(data_full[item_ind][ind][-1]) # change the number of y\n",
    "\n",
    "    for ind in range(split_ind, split_ind + 6):\n",
    "        for item_ind in range(len(fnames)):\n",
    "            X_test.append(data_full[item_ind][ind - past_days: ind + 1][:,[6]])\n",
    "            Y_test.append(data_full[item_ind][ind][-1]) # change the number of y\n",
    "    X_train, Y_train = np.array(X_train), np.array(Y_train)\n",
    "    X_test, Y_test = np.array(X_test), np.array(Y_test)\n",
    "    if past_days == 0:\n",
    "        X_train, Y_train, X_test, Y_test = \\\n",
    "        np.squeeze(X_train), np.squeeze(Y_train), np.squeeze(X_test), np.squeeze(Y_test) \n",
    "    X_train=np.c_[X_train,Y_pred_m0]\n",
    "    X_train=np.c_[X_train,Y_pred_m1]\n",
    "    X_train=np.c_[X_train,Y_pred_m2]\n",
    "    X_test=np.c_[X_test,Y_pred_test_m0]\n",
    "    X_test=np.c_[X_test,Y_pred_test_m1]\n",
    "    X_test=np.c_[X_test,Y_pred_test_m2]\n",
    "    print(\"The shape of X_train:\", X_train.shape)\n",
    "    print(\"The shape of Y_train:\", Y_train.shape)\n",
    "    print(\"The shape of X_test:\", X_test.shape)\n",
    "    print(\"The shape of Y_train:\", Y_test.shape)\n",
    "    return X_train, Y_train, X_test, Y_test\n",
    "\n",
    "X_train, Y_train, X_test, Y_test = split_m3(0) \n",
    "Y_test=Y_test.reshape(-1,1)"
   ]
  },
  {
   "cell_type": "code",
   "execution_count": 19,
   "metadata": {},
   "outputs": [
    {
     "name": "stdout",
     "output_type": "stream",
     "text": [
      "ACC: 0.527780652394805\n",
      "                            OLS Regression Results                            \n",
      "==============================================================================\n",
      "Dep. Variable:                      y   R-squared:                       0.259\n",
      "Model:                            OLS   Adj. R-squared:                  0.259\n",
      "Method:                 Least Squares   F-statistic:                     4802.\n",
      "Date:                Fri, 10 Jul 2020   Prob (F-statistic):               0.00\n",
      "Time:                        10:48:19   Log-Likelihood:                 4826.3\n",
      "No. Observations:               41256   AIC:                            -9645.\n",
      "Df Residuals:                   41252   BIC:                            -9610.\n",
      "Df Model:                           3                                         \n",
      "Covariance Type:            nonrobust                                         \n",
      "==============================================================================\n",
      "                 coef    std err          t      P>|t|      [0.025      0.975]\n",
      "------------------------------------------------------------------------------\n",
      "const          0.0903      0.002     47.701      0.000       0.087       0.094\n",
      "x1             0.2287      0.007     32.699      0.000       0.215       0.242\n",
      "x2             0.2584      0.009     30.096      0.000       0.242       0.275\n",
      "x3             0.0754      0.007     10.060      0.000       0.061       0.090\n",
      "x4             0.0754      0.007     10.060      0.000       0.061       0.090\n",
      "==============================================================================\n",
      "Omnibus:                    10391.192   Durbin-Watson:                   1.858\n",
      "Prob(Omnibus):                  0.000   Jarque-Bera (JB):            25530.665\n",
      "Skew:                           1.394   Prob(JB):                         0.00\n",
      "Kurtosis:                       5.660   Cond. No.                     3.22e+15\n",
      "==============================================================================\n",
      "\n",
      "Warnings:\n",
      "[1] Standard Errors assume that the covariance matrix of the errors is correctly specified.\n",
      "[2] The smallest eigenvalue is 4.85e-27. This might indicate that there are\n",
      "strong multicollinearity problems or that the design matrix is singular.\n"
     ]
    }
   ],
   "source": [
    "X_train=sm.add_constant(X_train)\n",
    "X_test=sm.add_constant(X_test)\n",
    "model=sm.OLS(Y_train,X_train).fit()\n",
    "Y_pred_test = model.predict(X_test)\n",
    "Y_pred_test=Y_pred_test.reshape(-1,1)\n",
    "Y_pred_test = model.predict(X_test)\n",
    "acc = my_acc(Y_pred_test, Y_test)\n",
    "\n",
    "print_model = model.summary()\n",
    "print('ACC:', acc)\n",
    "print(print_model)"
   ]
  },
  {
   "cell_type": "markdown",
   "metadata": {},
   "source": [
    "# Add past 2 days M0"
   ]
  },
  {
   "cell_type": "code",
   "execution_count": 65,
   "metadata": {},
   "outputs": [],
   "source": [
    "def process_diagonal(past_m0=0):\n",
    "    data_full = []\n",
    "    if past_m0 <= 2:\n",
    "        row = 42\n",
    "        start_period = 1215\n",
    "    else:\n",
    "        row = 42 - (past_m0-2)\n",
    "        start_period = 1215 + (past_m0-2)\n",
    "    col = 10 + past_m0\n",
    "    for fname in fnames:\n",
    "        data = pd.read_csv(os.path.join(data_path, fname), index_col=0)\n",
    "        data = data.drop([' item'], axis=1)\n",
    "        data.columns = ['qty', 'qty1', 'qty2', 'qty3']\n",
    "        data['x1_for_m0'] = data['qty1']\n",
    "        data['x2_for_m0'] = data['qty2'].shift(1, axis=0)\n",
    "        data['x3_for_m0'] = data['qty3'].shift(2, axis=0)\n",
    "        data['x1_for_m1'] = data['qty2']\n",
    "        data['x2_for_m1'] = data['qty3'].shift(2, axis=0)\n",
    "        data['x1_for_m2'] = data['qty3']\n",
    "        for i in range(past_m0):\n",
    "            name = 'Last_M0' + str(i+1)\n",
    "            data[name] = data['qty'].shift(i+1, axis=0)\n",
    "        data['M0'] = data['qty']\n",
    "        data['M1'] = data['qty'].shift(-1, axis=0)\n",
    "        data['M2'] = data['qty'].shift(-2, axis=0)\n",
    "        data['M3'] = data['qty'].shift(-3, axis=0)\n",
    "        data = data.drop(['qty', 'qty1', 'qty2', 'qty3'], axis=1)\n",
    "        data = data.dropna(how='any', axis=0)\n",
    "\n",
    "        temp = np.zeros((row, col))  # this should be modified\n",
    "        for i in range(start_period, 1257):\n",
    "            try:\n",
    "                temp[i-start_period] = data.loc[i].values\n",
    "            except:\n",
    "                continue\n",
    "        data_full.append(temp)\n",
    "    return data_full"
   ]
  },
  {
   "cell_type": "code",
   "execution_count": 53,
   "metadata": {},
   "outputs": [],
   "source": [
    "# data_full = process_original_with_last_2_m0()\n",
    "data_full = process_diagonal(2)"
   ]
  },
  {
   "cell_type": "code",
   "execution_count": 54,
   "metadata": {},
   "outputs": [
    {
     "name": "stdout",
     "output_type": "stream",
     "text": [
      "The shape of X_train: (41256, 5)\n",
      "The shape of Y_train: (41256,)\n",
      "The shape of X_test: (6876, 5)\n",
      "The shape of Y_train: (6876,)\n"
     ]
    }
   ],
   "source": [
    "def split_m0(past_days):\n",
    "#     split_ind = 38  # if original\n",
    "    split_ind = 36  # if digonal\n",
    "    X_train, Y_train = [], []\n",
    "    X_test, Y_test = [], []\n",
    "\n",
    "    for ind in range(past_days, split_ind):\n",
    "        for item_ind in range(len(fnames)):\n",
    "            X_train.append(data_full[item_ind][ind - past_days: ind + 1][:,[0,1,2,6,7]])\n",
    "            Y_train.append(data_full[item_ind][ind][-4]) # change the number of y\n",
    "\n",
    "    for ind in range(split_ind, split_ind + 6):\n",
    "        for item_ind in range(len(fnames)):\n",
    "            X_test.append(data_full[item_ind][ind - past_days: ind + 1][:,[0,1,2,6,7]])\n",
    "            Y_test.append(data_full[item_ind][ind][-4]) # change the number of y\n",
    "    X_train, Y_train = np.array(X_train), np.array(Y_train)\n",
    "    X_test, Y_test = np.array(X_test), np.array(Y_test)\n",
    "    if past_days == 0:\n",
    "        X_train, Y_train, X_test, Y_test = \\\n",
    "        np.squeeze(X_train), np.squeeze(Y_train), np.squeeze(X_test), np.squeeze(Y_test) \n",
    "    print(\"The shape of X_train:\", X_train.shape)\n",
    "    print(\"The shape of Y_train:\", Y_train.shape)\n",
    "    print(\"The shape of X_test:\", X_test.shape)\n",
    "    print(\"The shape of Y_train:\", Y_test.shape)\n",
    "    return X_train, Y_train, X_test, Y_test\n",
    "\n",
    "X_train, Y_train, X_test, Y_test = split_m0(0) \n",
    "Y_test=Y_test.reshape(-1,1)"
   ]
  },
  {
   "cell_type": "code",
   "execution_count": 55,
   "metadata": {},
   "outputs": [
    {
     "name": "stdout",
     "output_type": "stream",
     "text": [
      "[[0.68925   ]\n",
      " [0.70815314]\n",
      " [0.69757455]\n",
      " [0.67602672]\n",
      " [0.70143997]\n",
      " [0.68075461]]\n",
      "                            OLS Regression Results                            \n",
      "==============================================================================\n",
      "Dep. Variable:                      y   R-squared:                       0.824\n",
      "Model:                            OLS   Adj. R-squared:                  0.824\n",
      "Method:                 Least Squares   F-statistic:                 3.851e+04\n",
      "Date:                Thu, 09 Jul 2020   Prob (F-statistic):               0.00\n",
      "Time:                        23:05:08   Log-Likelihood:                 34588.\n",
      "No. Observations:               41256   AIC:                        -6.916e+04\n",
      "Df Residuals:                   41250   BIC:                        -6.911e+04\n",
      "Df Model:                           5                                         \n",
      "Covariance Type:            nonrobust                                         \n",
      "==============================================================================\n",
      "                 coef    std err          t      P>|t|      [0.025      0.975]\n",
      "------------------------------------------------------------------------------\n",
      "const          0.0261      0.001     35.784      0.000       0.025       0.028\n",
      "x1             1.1541      0.004    287.407      0.000       1.146       1.162\n",
      "x2            -0.2074      0.010    -20.590      0.000      -0.227      -0.188\n",
      "x3            -0.0039      0.016     -0.246      0.806      -0.035       0.027\n",
      "x4             0.1102      0.003     39.659      0.000       0.105       0.116\n",
      "x5             0.0715      0.003     27.011      0.000       0.066       0.077\n",
      "==============================================================================\n",
      "Omnibus:                    24723.417   Durbin-Watson:                   1.860\n",
      "Prob(Omnibus):                  0.000   Jarque-Bera (JB):           322210.416\n",
      "Skew:                           2.677   Prob(JB):                         0.00\n",
      "Kurtosis:                      15.601   Cond. No.                         35.7\n",
      "==============================================================================\n",
      "\n",
      "Warnings:\n",
      "[1] Standard Errors assume that the covariance matrix of the errors is correctly specified.\n"
     ]
    }
   ],
   "source": [
    "X_train=sm.add_constant(X_train)\n",
    "X_test=sm.add_constant(X_test)\n",
    "model=sm.OLS(Y_train,X_train).fit()\n",
    "Y_pred_test = model.predict(X_test)\n",
    "Y_pred_test=Y_pred_test.reshape(-1,1)\n",
    "\n",
    "acc_list = []\n",
    "for i in range(1146):\n",
    "    acc_list.append(acc_out(i))\n",
    "acc_list = np.array(acc_list)\n",
    "print(acc_list.mean(axis=0))\n",
    "\n",
    "print_model = model.summary()\n",
    "print(print_model)"
   ]
  },
  {
   "cell_type": "code",
   "execution_count": 56,
   "metadata": {},
   "outputs": [],
   "source": [
    "Y_pred_test_m0=Y_pred_test\n",
    "Y_pred_m0 = model.predict(X_train)\n",
    "Y_pred_m0=Y_pred_m0.reshape(-1,1)"
   ]
  },
  {
   "cell_type": "code",
   "execution_count": 57,
   "metadata": {},
   "outputs": [
    {
     "name": "stdout",
     "output_type": "stream",
     "text": [
      "The shape of X_train: (41256, 5)\n",
      "The shape of Y_train: (41256,)\n",
      "The shape of X_test: (6876, 5)\n",
      "The shape of Y_train: (6876,)\n"
     ]
    }
   ],
   "source": [
    "def split_m1(past_days):\n",
    "#     split_ind = 38  # if original\n",
    "    split_ind = 36  # if digonal\n",
    "    X_train, Y_train = [], []\n",
    "    X_test, Y_test = [], []\n",
    "\n",
    "    for ind in range(past_days, split_ind):\n",
    "        for item_ind in range(len(fnames)):\n",
    "            X_train.append(data_full[item_ind][ind - past_days: ind + 1][:,[3,4,6,7]])\n",
    "            Y_train.append(data_full[item_ind][ind][-3]) # change the number of y\n",
    "\n",
    "    for ind in range(split_ind, split_ind + 6):\n",
    "        for item_ind in range(len(fnames)):\n",
    "            X_test.append(data_full[item_ind][ind - past_days: ind + 1][:,[3,4,6,7]])\n",
    "            Y_test.append(data_full[item_ind][ind][-3]) # change the number of y\n",
    "    X_train, Y_train = np.array(X_train), np.array(Y_train)\n",
    "    X_test, Y_test = np.array(X_test), np.array(Y_test)\n",
    "    if past_days == 0:\n",
    "        X_train, Y_train, X_test, Y_test = \\\n",
    "        np.squeeze(X_train), np.squeeze(Y_train), np.squeeze(X_test), np.squeeze(Y_test) \n",
    "    X_train=np.c_[X_train,Y_pred_m0]\n",
    "    X_test=np.c_[X_test,Y_pred_test_m0]\n",
    "    print(\"The shape of X_train:\", X_train.shape)\n",
    "    print(\"The shape of Y_train:\", Y_train.shape)\n",
    "    print(\"The shape of X_test:\", X_test.shape)\n",
    "    print(\"The shape of Y_train:\", Y_test.shape)\n",
    "    return X_train, Y_train, X_test, Y_test\n",
    "\n",
    "X_train, Y_train, X_test, Y_test = split_m1(0) \n",
    "Y_test=Y_test.reshape(-1,1)"
   ]
  },
  {
   "cell_type": "code",
   "execution_count": 58,
   "metadata": {},
   "outputs": [
    {
     "name": "stdout",
     "output_type": "stream",
     "text": [
      "[[0.60429161]\n",
      " [0.59122354]\n",
      " [0.50028735]\n",
      " [0.59615443]\n",
      " [0.58738796]\n",
      " [0.58066455]]\n",
      "                            OLS Regression Results                            \n",
      "==============================================================================\n",
      "Dep. Variable:                      y   R-squared:                       0.449\n",
      "Model:                            OLS   Adj. R-squared:                  0.449\n",
      "Method:                 Least Squares   F-statistic:                     6728.\n",
      "Date:                Thu, 09 Jul 2020   Prob (F-statistic):               0.00\n",
      "Time:                        23:05:53   Log-Likelihood:                 11076.\n",
      "No. Observations:               41256   AIC:                        -2.214e+04\n",
      "Df Residuals:                   41250   BIC:                        -2.209e+04\n",
      "Df Model:                           5                                         \n",
      "Covariance Type:            nonrobust                                         \n",
      "==============================================================================\n",
      "                 coef    std err          t      P>|t|      [0.025      0.975]\n",
      "------------------------------------------------------------------------------\n",
      "const          0.0593      0.001     44.711      0.000       0.057       0.062\n",
      "x1             0.9497      0.013     74.629      0.000       0.925       0.975\n",
      "x2            -0.2986      0.023    -13.030      0.000      -0.343      -0.254\n",
      "x3             0.1675      0.005     32.351      0.000       0.157       0.178\n",
      "x4             0.2096      0.005     43.765      0.000       0.200       0.219\n",
      "x5             0.2605      0.006     44.210      0.000       0.249       0.272\n",
      "==============================================================================\n",
      "Omnibus:                    13295.161   Durbin-Watson:                   1.841\n",
      "Prob(Omnibus):                  0.000   Jarque-Bera (JB):            48379.377\n",
      "Skew:                           1.603   Prob(JB):                         0.00\n",
      "Kurtosis:                       7.226   Cond. No.                         27.2\n",
      "==============================================================================\n",
      "\n",
      "Warnings:\n",
      "[1] Standard Errors assume that the covariance matrix of the errors is correctly specified.\n"
     ]
    }
   ],
   "source": [
    "X_train=sm.add_constant(X_train)\n",
    "X_test=sm.add_constant(X_test)\n",
    "model=sm.OLS(Y_train,X_train).fit()\n",
    "Y_pred_test = model.predict(X_test)\n",
    "Y_pred_test=Y_pred_test.reshape(-1,1)\n",
    "\n",
    "acc_list = []\n",
    "for i in range(1146):\n",
    "    acc_list.append(acc_out(i))\n",
    "acc_list = np.array(acc_list)\n",
    "print(acc_list.mean(axis=0))\n",
    "\n",
    "print_model = model.summary()\n",
    "print(print_model)"
   ]
  },
  {
   "cell_type": "code",
   "execution_count": 59,
   "metadata": {},
   "outputs": [],
   "source": [
    "Y_pred_test_m1=Y_pred_test\n",
    "Y_pred_m1 = model.predict(X_train)\n",
    "Y_pred_m1=Y_pred_m1.reshape(-1,1)"
   ]
  },
  {
   "cell_type": "code",
   "execution_count": 60,
   "metadata": {},
   "outputs": [
    {
     "name": "stdout",
     "output_type": "stream",
     "text": [
      "The shape of X_train: (41256, 5)\n",
      "The shape of Y_train: (41256,)\n",
      "The shape of X_test: (6876, 5)\n",
      "The shape of Y_train: (6876,)\n"
     ]
    }
   ],
   "source": [
    "def split_m2(past_days):\n",
    "#     split_ind = 38  # if original\n",
    "    split_ind = 36  # if digonal\n",
    "    X_train, Y_train = [], []\n",
    "    X_test, Y_test = [], []\n",
    "\n",
    "    for ind in range(past_days, split_ind):\n",
    "        for item_ind in range(len(fnames)):\n",
    "            X_train.append(data_full[item_ind][ind - past_days: ind + 1][:,[5,6,7]])\n",
    "            Y_train.append(data_full[item_ind][ind][-2]) # change the number of y\n",
    "\n",
    "    for ind in range(split_ind, split_ind + 6):\n",
    "        for item_ind in range(len(fnames)):\n",
    "            X_test.append(data_full[item_ind][ind - past_days: ind + 1][:,[5,6,7]])\n",
    "            Y_test.append(data_full[item_ind][ind][-2]) # change the number of y\n",
    "    X_train, Y_train = np.array(X_train), np.array(Y_train)\n",
    "    X_test, Y_test = np.array(X_test), np.array(Y_test)\n",
    "    if past_days == 0:\n",
    "        X_train, Y_train, X_test, Y_test = \\\n",
    "        np.squeeze(X_train), np.squeeze(Y_train), np.squeeze(X_test), np.squeeze(Y_test) \n",
    "    X_train=np.c_[X_train,Y_pred_m0]\n",
    "    X_train=np.c_[X_train,Y_pred_m1]\n",
    "    X_test=np.c_[X_test,Y_pred_test_m0]\n",
    "    X_test=np.c_[X_test,Y_pred_test_m1]\n",
    "    print(\"The shape of X_train:\", X_train.shape)\n",
    "    print(\"The shape of Y_train:\", Y_train.shape)\n",
    "    print(\"The shape of X_test:\", X_test.shape)\n",
    "    print(\"The shape of Y_train:\", Y_test.shape)\n",
    "    return X_train, Y_train, X_test, Y_test\n",
    "\n",
    "X_train, Y_train, X_test, Y_test = split_m2(0) \n",
    "Y_test=Y_test.reshape(-1,1)"
   ]
  },
  {
   "cell_type": "code",
   "execution_count": 61,
   "metadata": {},
   "outputs": [
    {
     "name": "stdout",
     "output_type": "stream",
     "text": [
      "[[0.5746679 ]\n",
      " [0.47463921]\n",
      " [0.56872701]\n",
      " [0.56965636]\n",
      " [0.57166846]\n",
      " [0.56314163]]\n",
      "                            OLS Regression Results                            \n",
      "==============================================================================\n",
      "Dep. Variable:                      y   R-squared:                       0.356\n",
      "Model:                            OLS   Adj. R-squared:                  0.356\n",
      "Method:                 Least Squares   F-statistic:                     4558.\n",
      "Date:                Thu, 09 Jul 2020   Prob (F-statistic):               0.00\n",
      "Time:                        23:06:02   Log-Likelihood:                 7776.4\n",
      "No. Observations:               41256   AIC:                        -1.554e+04\n",
      "Df Residuals:                   41250   BIC:                        -1.549e+04\n",
      "Df Model:                           5                                         \n",
      "Covariance Type:            nonrobust                                         \n",
      "==============================================================================\n",
      "                 coef    std err          t      P>|t|      [0.025      0.975]\n",
      "------------------------------------------------------------------------------\n",
      "const          0.0711      0.002     41.653      0.000       0.068       0.074\n",
      "x1             1.0344      0.024     43.558      0.000       0.988       1.081\n",
      "x2             0.2097      0.006     33.890      0.000       0.198       0.222\n",
      "x3             0.1559      0.006     25.340      0.000       0.144       0.168\n",
      "x4             0.2118      0.008     27.169      0.000       0.197       0.227\n",
      "x5             0.0866      0.015      5.800      0.000       0.057       0.116\n",
      "==============================================================================\n",
      "Omnibus:                    11867.298   Durbin-Watson:                   1.859\n",
      "Prob(Omnibus):                  0.000   Jarque-Bera (JB):            35318.469\n",
      "Skew:                           1.502   Prob(JB):                         0.00\n",
      "Kurtosis:                       6.394   Cond. No.                         27.1\n",
      "==============================================================================\n",
      "\n",
      "Warnings:\n",
      "[1] Standard Errors assume that the covariance matrix of the errors is correctly specified.\n"
     ]
    }
   ],
   "source": [
    "X_train=sm.add_constant(X_train)\n",
    "X_test=sm.add_constant(X_test)\n",
    "model=sm.OLS(Y_train,X_train).fit()\n",
    "Y_pred_test = model.predict(X_test)\n",
    "Y_pred_test=Y_pred_test.reshape(-1,1)\n",
    "\n",
    "acc_list = []\n",
    "for i in range(1146):\n",
    "    acc_list.append(acc_out(i))\n",
    "acc_list = np.array(acc_list)\n",
    "print(acc_list.mean(axis=0))\n",
    "\n",
    "print_model = model.summary()\n",
    "print(print_model)"
   ]
  },
  {
   "cell_type": "code",
   "execution_count": 62,
   "metadata": {},
   "outputs": [],
   "source": [
    "Y_pred_test_m2=Y_pred_test\n",
    "Y_pred_m2 = model.predict(X_train)\n",
    "Y_pred_m2=Y_pred_m1.reshape(-1,1)"
   ]
  },
  {
   "cell_type": "code",
   "execution_count": 63,
   "metadata": {},
   "outputs": [
    {
     "name": "stdout",
     "output_type": "stream",
     "text": [
      "The shape of X_train: (41256, 5)\n",
      "The shape of Y_train: (41256,)\n",
      "The shape of X_test: (6876, 5)\n",
      "The shape of Y_train: (6876,)\n"
     ]
    }
   ],
   "source": [
    "def split_m3(past_days):\n",
    "#     split_ind = 38  # if original\n",
    "    split_ind = 36  # if digonal\n",
    "    X_train, Y_train = [], []\n",
    "    X_test, Y_test = [], []\n",
    "\n",
    "    for ind in range(past_days, split_ind):\n",
    "        for item_ind in range(len(fnames)):\n",
    "            X_train.append(data_full[item_ind][ind - past_days: ind + 1][:,[6,7]])\n",
    "            Y_train.append(data_full[item_ind][ind][-1]) # change the number of y\n",
    "\n",
    "    for ind in range(split_ind, split_ind + 6):\n",
    "        for item_ind in range(len(fnames)):\n",
    "            X_test.append(data_full[item_ind][ind - past_days: ind + 1][:,[6,7]])\n",
    "            Y_test.append(data_full[item_ind][ind][-1]) # change the number of y\n",
    "    X_train, Y_train = np.array(X_train), np.array(Y_train)\n",
    "    X_test, Y_test = np.array(X_test), np.array(Y_test)\n",
    "    if past_days == 0:\n",
    "        X_train, Y_train, X_test, Y_test = \\\n",
    "        np.squeeze(X_train), np.squeeze(Y_train), np.squeeze(X_test), np.squeeze(Y_test) \n",
    "    X_train=np.c_[X_train,Y_pred_m0]\n",
    "    X_train=np.c_[X_train,Y_pred_m1]\n",
    "    X_train=np.c_[X_train,Y_pred_m2]\n",
    "    X_test=np.c_[X_test,Y_pred_test_m0]\n",
    "    X_test=np.c_[X_test,Y_pred_test_m1]\n",
    "    X_test=np.c_[X_test,Y_pred_test_m2]\n",
    "    print(\"The shape of X_train:\", X_train.shape)\n",
    "    print(\"The shape of Y_train:\", Y_train.shape)\n",
    "    print(\"The shape of X_test:\", X_test.shape)\n",
    "    print(\"The shape of Y_train:\", Y_test.shape)\n",
    "    return X_train, Y_train, X_test, Y_test\n",
    "\n",
    "X_train, Y_train, X_test, Y_test = split_m3(0) \n",
    "Y_test=Y_test.reshape(-1,1)"
   ]
  },
  {
   "cell_type": "code",
   "execution_count": 64,
   "metadata": {},
   "outputs": [
    {
     "name": "stdout",
     "output_type": "stream",
     "text": [
      "[[0.47268862]\n",
      " [0.55530831]\n",
      " [0.56023612]\n",
      " [0.55334431]\n",
      " [0.56022602]\n",
      " [0.50453767]]\n",
      "                            OLS Regression Results                            \n",
      "==============================================================================\n",
      "Dep. Variable:                      y   R-squared:                       0.289\n",
      "Model:                            OLS   Adj. R-squared:                  0.289\n",
      "Method:                 Least Squares   F-statistic:                     4186.\n",
      "Date:                Thu, 09 Jul 2020   Prob (F-statistic):               0.00\n",
      "Time:                        23:06:12   Log-Likelihood:                 5674.6\n",
      "No. Observations:               41256   AIC:                        -1.134e+04\n",
      "Df Residuals:                   41251   BIC:                        -1.130e+04\n",
      "Df Model:                           4                                         \n",
      "Covariance Type:            nonrobust                                         \n",
      "==============================================================================\n",
      "                 coef    std err          t      P>|t|      [0.025      0.975]\n",
      "------------------------------------------------------------------------------\n",
      "const          0.0820      0.002     45.934      0.000       0.079       0.086\n",
      "x1             0.1568      0.006     24.151      0.000       0.144       0.170\n",
      "x2             0.1786      0.006     27.770      0.000       0.166       0.191\n",
      "x3             0.2245      0.008     27.444      0.000       0.208       0.241\n",
      "x4             0.0605      0.008      7.938      0.000       0.046       0.075\n",
      "x5             0.0605      0.008      7.938      0.000       0.046       0.075\n",
      "==============================================================================\n",
      "Omnibus:                    11016.359   Durbin-Watson:                   1.866\n",
      "Prob(Omnibus):                  0.000   Jarque-Bera (JB):            29056.243\n",
      "Skew:                           1.444   Prob(JB):                         0.00\n",
      "Kurtosis:                       5.925   Cond. No.                     5.09e+15\n",
      "==============================================================================\n",
      "\n",
      "Warnings:\n",
      "[1] Standard Errors assume that the covariance matrix of the errors is correctly specified.\n",
      "[2] The smallest eigenvalue is 2.04e-27. This might indicate that there are\n",
      "strong multicollinearity problems or that the design matrix is singular.\n"
     ]
    }
   ],
   "source": [
    "X_train=sm.add_constant(X_train)\n",
    "X_test=sm.add_constant(X_test)\n",
    "model=sm.OLS(Y_train,X_train).fit()\n",
    "Y_pred_test = model.predict(X_test)\n",
    "Y_pred_test=Y_pred_test.reshape(-1,1)\n",
    "\n",
    "acc_list = []\n",
    "for i in range(1146):\n",
    "    acc_list.append(acc_out(i))\n",
    "acc_list = np.array(acc_list)\n",
    "print(acc_list.mean(axis=0))\n",
    "\n",
    "print_model = model.summary()\n",
    "print(print_model)"
   ]
  },
  {
   "cell_type": "markdown",
   "metadata": {},
   "source": [
    "# Add past 3days M0"
   ]
  },
  {
   "cell_type": "code",
   "execution_count": 74,
   "metadata": {},
   "outputs": [],
   "source": [
    "# data_full = process_original_with_last_2_m0()\n",
    "data_full = process_diagonal(3)"
   ]
  },
  {
   "cell_type": "code",
   "execution_count": 75,
   "metadata": {},
   "outputs": [
    {
     "name": "stdout",
     "output_type": "stream",
     "text": [
      "The shape of X_train: (38964, 6)\n",
      "The shape of Y_train: (38964,)\n",
      "The shape of X_test: (6876, 6)\n",
      "The shape of Y_train: (6876,)\n"
     ]
    }
   ],
   "source": [
    "def split_m0(past_days):\n",
    "#     split_ind = 38  # if original\n",
    "    split_ind = 34  # if digonal\n",
    "    X_train, Y_train = [], []\n",
    "    X_test, Y_test = [], []\n",
    "\n",
    "    for ind in range(past_days, split_ind):\n",
    "        for item_ind in range(len(fnames)):\n",
    "            X_train.append(data_full[item_ind][ind - past_days: ind + 1][:,[0,1,2,6,7,8]])\n",
    "            Y_train.append(data_full[item_ind][ind][-4]) # change the number of y\n",
    "\n",
    "    for ind in range(split_ind, split_ind + 6):\n",
    "        for item_ind in range(len(fnames)):\n",
    "            X_test.append(data_full[item_ind][ind - past_days: ind + 1][:,[0,1,2,6,7,8]])\n",
    "            Y_test.append(data_full[item_ind][ind][-4]) # change the number of y\n",
    "    X_train, Y_train = np.array(X_train), np.array(Y_train)\n",
    "    X_test, Y_test = np.array(X_test), np.array(Y_test)\n",
    "    if past_days == 0:\n",
    "        X_train, Y_train, X_test, Y_test = \\\n",
    "        np.squeeze(X_train), np.squeeze(Y_train), np.squeeze(X_test), np.squeeze(Y_test) \n",
    "    print(\"The shape of X_train:\", X_train.shape)\n",
    "    print(\"The shape of Y_train:\", Y_train.shape)\n",
    "    print(\"The shape of X_test:\", X_test.shape)\n",
    "    print(\"The shape of Y_train:\", Y_test.shape)\n",
    "    return X_train, Y_train, X_test, Y_test\n",
    "\n",
    "X_train, Y_train, X_test, Y_test = split_m0(0) \n",
    "Y_test=Y_test.reshape(-1,1)"
   ]
  },
  {
   "cell_type": "code",
   "execution_count": 76,
   "metadata": {},
   "outputs": [
    {
     "name": "stdout",
     "output_type": "stream",
     "text": [
      "[[0.70106261]\n",
      " [0.70719151]\n",
      " [0.69366605]\n",
      " [0.67573965]\n",
      " [0.70059827]\n",
      " [0.68087866]]\n",
      "                            OLS Regression Results                            \n",
      "==============================================================================\n",
      "Dep. Variable:                      y   R-squared:                       0.825\n",
      "Model:                            OLS   Adj. R-squared:                  0.825\n",
      "Method:                 Least Squares   F-statistic:                 3.057e+04\n",
      "Date:                Thu, 02 Jul 2020   Prob (F-statistic):               0.00\n",
      "Time:                        16:23:32   Log-Likelihood:                 32698.\n",
      "No. Observations:               38964   AIC:                        -6.538e+04\n",
      "Df Residuals:                   38957   BIC:                        -6.532e+04\n",
      "Df Model:                           6                                         \n",
      "Covariance Type:            nonrobust                                         \n",
      "==============================================================================\n",
      "                 coef    std err          t      P>|t|      [0.025      0.975]\n",
      "------------------------------------------------------------------------------\n",
      "const          0.0228      0.001     29.607      0.000       0.021       0.024\n",
      "x1             1.1405      0.004    275.422      0.000       1.132       1.149\n",
      "x2            -0.2031      0.010    -19.705      0.000      -0.223      -0.183\n",
      "x3            -0.0167      0.016     -1.016      0.310      -0.049       0.015\n",
      "x4             0.0963      0.003     33.385      0.000       0.091       0.102\n",
      "x5             0.0406      0.003     13.829      0.000       0.035       0.046\n",
      "x6             0.0728      0.003     25.128      0.000       0.067       0.078\n",
      "==============================================================================\n",
      "Omnibus:                    23284.207   Durbin-Watson:                   1.867\n",
      "Prob(Omnibus):                  0.000   Jarque-Bera (JB):           303175.752\n",
      "Skew:                           2.666   Prob(JB):                         0.00\n",
      "Kurtosis:                      15.582   Cond. No.                         36.5\n",
      "==============================================================================\n",
      "\n",
      "Warnings:\n",
      "[1] Standard Errors assume that the covariance matrix of the errors is correctly specified.\n"
     ]
    }
   ],
   "source": [
    "X_train=sm.add_constant(X_train)\n",
    "X_test=sm.add_constant(X_test)\n",
    "model=sm.OLS(Y_train,X_train).fit()\n",
    "Y_pred_test = model.predict(X_test)\n",
    "Y_pred_test=Y_pred_test.reshape(-1,1)\n",
    "\n",
    "acc_list = []\n",
    "for i in range(1146):\n",
    "    acc_list.append(acc_out(i))\n",
    "acc_list = np.array(acc_list)\n",
    "print(acc_list.mean(axis=0))\n",
    "\n",
    "print_model = model.summary()\n",
    "print(print_model)"
   ]
  },
  {
   "cell_type": "code",
   "execution_count": 77,
   "metadata": {},
   "outputs": [],
   "source": [
    "Y_pred_test_m0=Y_pred_test\n",
    "Y_pred_m0 = model.predict(X_train)\n",
    "Y_pred_m0=Y_pred_m0.reshape(-1,1)"
   ]
  },
  {
   "cell_type": "code",
   "execution_count": 78,
   "metadata": {},
   "outputs": [
    {
     "name": "stdout",
     "output_type": "stream",
     "text": [
      "The shape of X_train: (38964, 6)\n",
      "The shape of Y_train: (38964,)\n",
      "The shape of X_test: (6876, 6)\n",
      "The shape of Y_train: (6876,)\n"
     ]
    }
   ],
   "source": [
    "def split_m1(past_days):\n",
    "#     split_ind = 38  # if original\n",
    "    split_ind = 34  # if digonal\n",
    "    X_train, Y_train = [], []\n",
    "    X_test, Y_test = [], []\n",
    "\n",
    "    for ind in range(past_days, split_ind):\n",
    "        for item_ind in range(len(fnames)):\n",
    "            X_train.append(data_full[item_ind][ind - past_days: ind + 1][:,[3,4,6,7,8]])\n",
    "            Y_train.append(data_full[item_ind][ind][-3]) # change the number of y\n",
    "\n",
    "    for ind in range(split_ind, split_ind + 6):\n",
    "        for item_ind in range(len(fnames)):\n",
    "            X_test.append(data_full[item_ind][ind - past_days: ind + 1][:,[3,4,6,7,8]])\n",
    "            Y_test.append(data_full[item_ind][ind][-3]) # change the number of y\n",
    "    X_train, Y_train = np.array(X_train), np.array(Y_train)\n",
    "    X_test, Y_test = np.array(X_test), np.array(Y_test)\n",
    "    if past_days == 0:\n",
    "        X_train, Y_train, X_test, Y_test = \\\n",
    "        np.squeeze(X_train), np.squeeze(Y_train), np.squeeze(X_test), np.squeeze(Y_test) \n",
    "    X_train=np.c_[X_train,Y_pred_m0]\n",
    "    X_test=np.c_[X_test,Y_pred_test_m0]\n",
    "    print(\"The shape of X_train:\", X_train.shape)\n",
    "    print(\"The shape of Y_train:\", Y_train.shape)\n",
    "    print(\"The shape of X_test:\", X_test.shape)\n",
    "    print(\"The shape of Y_train:\", Y_test.shape)\n",
    "    return X_train, Y_train, X_test, Y_test\n",
    "\n",
    "X_train, Y_train, X_test, Y_test = split_m1(0) \n",
    "Y_test=Y_test.reshape(-1,1)"
   ]
  },
  {
   "cell_type": "code",
   "execution_count": 79,
   "metadata": {},
   "outputs": [
    {
     "name": "stdout",
     "output_type": "stream",
     "text": [
      "[[0.60702021]\n",
      " [0.5992668 ]\n",
      " [0.4944221 ]\n",
      " [0.59590078]\n",
      " [0.58775899]\n",
      " [0.5799438 ]]\n",
      "                            OLS Regression Results                            \n",
      "==============================================================================\n",
      "Dep. Variable:                      y   R-squared:                       0.453\n",
      "Model:                            OLS   Adj. R-squared:                  0.453\n",
      "Method:                 Least Squares   F-statistic:                     5377.\n",
      "Date:                Thu, 02 Jul 2020   Prob (F-statistic):               0.00\n",
      "Time:                        16:23:38   Log-Likelihood:                 10485.\n",
      "No. Observations:               38964   AIC:                        -2.096e+04\n",
      "Df Residuals:                   38957   BIC:                        -2.090e+04\n",
      "Df Model:                           6                                         \n",
      "Covariance Type:            nonrobust                                         \n",
      "==============================================================================\n",
      "                 coef    std err          t      P>|t|      [0.025      0.975]\n",
      "------------------------------------------------------------------------------\n",
      "const          0.0559      0.001     40.215      0.000       0.053       0.059\n",
      "x1             0.9358      0.013     71.944      0.000       0.910       0.961\n",
      "x2            -0.3099      0.023    -13.245      0.000      -0.356      -0.264\n",
      "x3             0.1443      0.005     27.141      0.000       0.134       0.155\n",
      "x4             0.1680      0.005     32.124      0.000       0.158       0.178\n",
      "x5             0.1026      0.005     19.707      0.000       0.092       0.113\n",
      "x6             0.2487      0.006     40.422      0.000       0.237       0.261\n",
      "==============================================================================\n",
      "Omnibus:                    12447.870   Durbin-Watson:                   1.841\n",
      "Prob(Omnibus):                  0.000   Jarque-Bera (JB):            44392.490\n",
      "Skew:                           1.597   Prob(JB):                         0.00\n",
      "Kurtosis:                       7.141   Cond. No.                         27.7\n",
      "==============================================================================\n",
      "\n",
      "Warnings:\n",
      "[1] Standard Errors assume that the covariance matrix of the errors is correctly specified.\n"
     ]
    }
   ],
   "source": [
    "X_train=sm.add_constant(X_train)\n",
    "X_test=sm.add_constant(X_test)\n",
    "model=sm.OLS(Y_train,X_train).fit()\n",
    "Y_pred_test = model.predict(X_test)\n",
    "Y_pred_test=Y_pred_test.reshape(-1,1)\n",
    "\n",
    "acc_list = []\n",
    "for i in range(1146):\n",
    "    acc_list.append(acc_out(i))\n",
    "acc_list = np.array(acc_list)\n",
    "print(acc_list.mean(axis=0))\n",
    "\n",
    "print_model = model.summary()\n",
    "print(print_model)"
   ]
  },
  {
   "cell_type": "code",
   "execution_count": 80,
   "metadata": {},
   "outputs": [],
   "source": [
    "Y_pred_test_m1=Y_pred_test\n",
    "Y_pred_m1 = model.predict(X_train)\n",
    "Y_pred_m1=Y_pred_m1.reshape(-1,1)"
   ]
  },
  {
   "cell_type": "code",
   "execution_count": 81,
   "metadata": {},
   "outputs": [
    {
     "name": "stdout",
     "output_type": "stream",
     "text": [
      "The shape of X_train: (38964, 6)\n",
      "The shape of Y_train: (38964,)\n",
      "The shape of X_test: (6876, 6)\n",
      "The shape of Y_train: (6876,)\n"
     ]
    }
   ],
   "source": [
    "def split_m2(past_days):\n",
    "#     split_ind = 38  # if original\n",
    "    split_ind = 34  # if digonal\n",
    "    X_train, Y_train = [], []\n",
    "    X_test, Y_test = [], []\n",
    "\n",
    "    for ind in range(past_days, split_ind):\n",
    "        for item_ind in range(len(fnames)):\n",
    "            X_train.append(data_full[item_ind][ind - past_days: ind + 1][:,[5,6,7,8]])\n",
    "            Y_train.append(data_full[item_ind][ind][-2]) # change the number of y\n",
    "\n",
    "    for ind in range(split_ind, split_ind + 6):\n",
    "        for item_ind in range(len(fnames)):\n",
    "            X_test.append(data_full[item_ind][ind - past_days: ind + 1][:,[5,6,7,8]])\n",
    "            Y_test.append(data_full[item_ind][ind][-2]) # change the number of y\n",
    "    X_train, Y_train = np.array(X_train), np.array(Y_train)\n",
    "    X_test, Y_test = np.array(X_test), np.array(Y_test)\n",
    "    if past_days == 0:\n",
    "        X_train, Y_train, X_test, Y_test = \\\n",
    "        np.squeeze(X_train), np.squeeze(Y_train), np.squeeze(X_test), np.squeeze(Y_test) \n",
    "    X_train=np.c_[X_train,Y_pred_m0]\n",
    "    X_train=np.c_[X_train,Y_pred_m1]\n",
    "    X_test=np.c_[X_test,Y_pred_test_m0]\n",
    "    X_test=np.c_[X_test,Y_pred_test_m1]\n",
    "    print(\"The shape of X_train:\", X_train.shape)\n",
    "    print(\"The shape of Y_train:\", Y_train.shape)\n",
    "    print(\"The shape of X_test:\", X_test.shape)\n",
    "    print(\"The shape of Y_train:\", Y_test.shape)\n",
    "    return X_train, Y_train, X_test, Y_test\n",
    "\n",
    "X_train, Y_train, X_test, Y_test = split_m2(0) \n",
    "Y_test=Y_test.reshape(-1,1)"
   ]
  },
  {
   "cell_type": "code",
   "execution_count": 82,
   "metadata": {},
   "outputs": [
    {
     "name": "stdout",
     "output_type": "stream",
     "text": [
      "[[0.59722271]\n",
      " [0.4871446 ]\n",
      " [0.57084709]\n",
      " [0.57224513]\n",
      " [0.57243075]\n",
      " [0.56191394]]\n",
      "                            OLS Regression Results                            \n",
      "==============================================================================\n",
      "Dep. Variable:                      y   R-squared:                       0.364\n",
      "Model:                            OLS   Adj. R-squared:                  0.364\n",
      "Method:                 Least Squares   F-statistic:                     3716.\n",
      "Date:                Thu, 02 Jul 2020   Prob (F-statistic):               0.00\n",
      "Time:                        16:23:55   Log-Likelihood:                 7540.1\n",
      "No. Observations:               38964   AIC:                        -1.507e+04\n",
      "Df Residuals:                   38957   BIC:                        -1.501e+04\n",
      "Df Model:                           6                                         \n",
      "Covariance Type:            nonrobust                                         \n",
      "==============================================================================\n",
      "                 coef    std err          t      P>|t|      [0.025      0.975]\n",
      "------------------------------------------------------------------------------\n",
      "const          0.0664      0.002     37.992      0.000       0.063       0.070\n",
      "x1             1.0155      0.025     41.063      0.000       0.967       1.064\n",
      "x2             0.1867      0.006     30.149      0.000       0.175       0.199\n",
      "x3             0.1070      0.006     17.049      0.000       0.095       0.119\n",
      "x4             0.1240      0.006     21.219      0.000       0.113       0.135\n",
      "x5             0.1914      0.008     24.051      0.000       0.176       0.207\n",
      "x6             0.0840      0.015      5.444      0.000       0.054       0.114\n",
      "==============================================================================\n",
      "Omnibus:                    11245.062   Durbin-Watson:                   1.866\n",
      "Prob(Omnibus):                  0.000   Jarque-Bera (JB):            33543.822\n",
      "Skew:                           1.506   Prob(JB):                         0.00\n",
      "Kurtosis:                       6.404   Cond. No.                         28.3\n",
      "==============================================================================\n",
      "\n",
      "Warnings:\n",
      "[1] Standard Errors assume that the covariance matrix of the errors is correctly specified.\n"
     ]
    }
   ],
   "source": [
    "X_train=sm.add_constant(X_train)\n",
    "X_test=sm.add_constant(X_test)\n",
    "model=sm.OLS(Y_train,X_train).fit()\n",
    "Y_pred_test = model.predict(X_test)\n",
    "Y_pred_test=Y_pred_test.reshape(-1,1)\n",
    "\n",
    "acc_list = []\n",
    "for i in range(1146):\n",
    "    acc_list.append(acc_out(i))\n",
    "acc_list = np.array(acc_list)\n",
    "print(acc_list.mean(axis=0))\n",
    "\n",
    "print_model = model.summary()\n",
    "print(print_model)"
   ]
  },
  {
   "cell_type": "code",
   "execution_count": 83,
   "metadata": {},
   "outputs": [],
   "source": [
    "Y_pred_test_m2=Y_pred_test\n",
    "Y_pred_m2 = model.predict(X_train)\n",
    "Y_pred_m2=Y_pred_m1.reshape(-1,1)"
   ]
  },
  {
   "cell_type": "code",
   "execution_count": 84,
   "metadata": {},
   "outputs": [
    {
     "name": "stdout",
     "output_type": "stream",
     "text": [
      "The shape of X_train: (38964, 6)\n",
      "The shape of Y_train: (38964,)\n",
      "The shape of X_test: (6876, 6)\n",
      "The shape of Y_train: (6876,)\n"
     ]
    }
   ],
   "source": [
    "def split_m3(past_days):\n",
    "#     split_ind = 38  # if original\n",
    "    split_ind = 34  # if digonal\n",
    "    X_train, Y_train = [], []\n",
    "    X_test, Y_test = [], []\n",
    "\n",
    "    for ind in range(past_days, split_ind):\n",
    "        for item_ind in range(len(fnames)):\n",
    "            X_train.append(data_full[item_ind][ind - past_days: ind + 1][:,[6,7,8]])\n",
    "            Y_train.append(data_full[item_ind][ind][-1]) # change the number of y\n",
    "\n",
    "    for ind in range(split_ind, split_ind + 6):\n",
    "        for item_ind in range(len(fnames)):\n",
    "            X_test.append(data_full[item_ind][ind - past_days: ind + 1][:,[6,7,8]])\n",
    "            Y_test.append(data_full[item_ind][ind][-1]) # change the number of y\n",
    "    X_train, Y_train = np.array(X_train), np.array(Y_train)\n",
    "    X_test, Y_test = np.array(X_test), np.array(Y_test)\n",
    "    if past_days == 0:\n",
    "        X_train, Y_train, X_test, Y_test = \\\n",
    "        np.squeeze(X_train), np.squeeze(Y_train), np.squeeze(X_test), np.squeeze(Y_test) \n",
    "    X_train=np.c_[X_train,Y_pred_m0]\n",
    "    X_train=np.c_[X_train,Y_pred_m1]\n",
    "    X_train=np.c_[X_train,Y_pred_m2]\n",
    "    X_test=np.c_[X_test,Y_pred_test_m0]\n",
    "    X_test=np.c_[X_test,Y_pred_test_m1]\n",
    "    X_test=np.c_[X_test,Y_pred_test_m2]\n",
    "    print(\"The shape of X_train:\", X_train.shape)\n",
    "    print(\"The shape of Y_train:\", Y_train.shape)\n",
    "    print(\"The shape of X_test:\", X_test.shape)\n",
    "    print(\"The shape of Y_train:\", Y_test.shape)\n",
    "    return X_train, Y_train, X_test, Y_test\n",
    "\n",
    "X_train, Y_train, X_test, Y_test = split_m3(0) \n",
    "Y_test=Y_test.reshape(-1,1)"
   ]
  },
  {
   "cell_type": "code",
   "execution_count": 85,
   "metadata": {},
   "outputs": [
    {
     "name": "stdout",
     "output_type": "stream",
     "text": [
      "[[0.53143832]\n",
      " [0.56522001]\n",
      " [0.56309867]\n",
      " [0.55477802]\n",
      " [0.56185765]\n",
      " [0.50693479]]\n",
      "                            OLS Regression Results                            \n",
      "==============================================================================\n",
      "Dep. Variable:                      y   R-squared:                       0.311\n",
      "Model:                            OLS   Adj. R-squared:                  0.311\n",
      "Method:                 Least Squares   F-statistic:                     3524.\n",
      "Date:                Thu, 02 Jul 2020   Prob (F-statistic):               0.00\n",
      "Time:                        16:24:03   Log-Likelihood:                 6023.8\n",
      "No. Observations:               38964   AIC:                        -1.204e+04\n",
      "Df Residuals:                   38958   BIC:                        -1.198e+04\n",
      "Df Model:                           5                                         \n",
      "Covariance Type:            nonrobust                                         \n",
      "==============================================================================\n",
      "                 coef    std err          t      P>|t|      [0.025      0.975]\n",
      "------------------------------------------------------------------------------\n",
      "const          0.0761      0.002     42.092      0.000       0.073       0.080\n",
      "x1             0.1245      0.006     19.388      0.000       0.112       0.137\n",
      "x2             0.1075      0.006     16.557      0.000       0.095       0.120\n",
      "x3             0.1956      0.006     32.228      0.000       0.184       0.208\n",
      "x4             0.1942      0.008     23.542      0.000       0.178       0.210\n",
      "x5             0.0473      0.008      6.092      0.000       0.032       0.063\n",
      "x6             0.0473      0.008      6.092      0.000       0.032       0.063\n",
      "==============================================================================\n",
      "Omnibus:                    10392.962   Durbin-Watson:                   1.886\n",
      "Prob(Omnibus):                  0.000   Jarque-Bera (JB):            27635.111\n",
      "Skew:                           1.439   Prob(JB):                         0.00\n",
      "Kurtosis:                       5.957   Cond. No.                     3.61e+15\n",
      "==============================================================================\n",
      "\n",
      "Warnings:\n",
      "[1] Standard Errors assume that the covariance matrix of the errors is correctly specified.\n",
      "[2] The smallest eigenvalue is 4.03e-27. This might indicate that there are\n",
      "strong multicollinearity problems or that the design matrix is singular.\n"
     ]
    }
   ],
   "source": [
    "X_train=sm.add_constant(X_train)\n",
    "X_test=sm.add_constant(X_test)\n",
    "model=sm.OLS(Y_train,X_train).fit()\n",
    "Y_pred_test = model.predict(X_test)\n",
    "Y_pred_test=Y_pred_test.reshape(-1,1)\n",
    "\n",
    "acc_list = []\n",
    "for i in range(1146):\n",
    "    acc_list.append(acc_out(i))\n",
    "acc_list = np.array(acc_list)\n",
    "print(acc_list.mean(axis=0))\n",
    "\n",
    "print_model = model.summary()\n",
    "print(print_model)"
   ]
  }
 ],
 "metadata": {
  "kernelspec": {
   "display_name": "Python 3",
   "language": "python",
   "name": "python3"
  },
  "language_info": {
   "codemirror_mode": {
    "name": "ipython",
    "version": 3
   },
   "file_extension": ".py",
   "mimetype": "text/x-python",
   "name": "python",
   "nbconvert_exporter": "python",
   "pygments_lexer": "ipython3",
   "version": "3.7.0"
  }
 },
 "nbformat": 4,
 "nbformat_minor": 2
}
