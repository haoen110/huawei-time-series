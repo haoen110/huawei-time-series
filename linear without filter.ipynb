{
 "cells": [
  {
   "cell_type": "code",
   "execution_count": 1,
   "metadata": {},
   "outputs": [],
   "source": [
    "import os\n",
    "import numpy as np\n",
    "import pandas as pd\n",
    "import matplotlib.pyplot as plt\n",
    "from sklearn.model_selection import train_test_split\n",
    "from sklearn.preprocessing import StandardScaler, MinMaxScaler\n",
    "%config InlineBackend.figure_format = 'retina'"
   ]
  },
  {
   "cell_type": "code",
   "execution_count": 2,
   "metadata": {},
   "outputs": [
    {
     "name": "stdout",
     "output_type": "stream",
     "text": [
      "1146 files\n"
     ]
    }
   ],
   "source": [
    "data_path = 'C:/Users/CRH/Desktop/cityu/huawei/Time Series Forecasting/Small Sample Time Series Forecasting/Time_Series'\n",
    "fnames = [fname for fname in os.listdir(data_path) if os.path.isfile(os.path.join(data_path, fname))]\n",
    "print(len(fnames), \"files\")"
   ]
  },
  {
   "cell_type": "code",
   "execution_count": 3,
   "metadata": {},
   "outputs": [],
   "source": [
    "def process_diagonal_with_last_1_m0():\n",
    "    data_full = []\n",
    "    for fname in fnames:\n",
    "        data = pd.read_csv(os.path.join(data_path, fname), index_col=0)\n",
    "        data = data.drop([' item'], axis=1)\n",
    "        data.columns = ['qty', 'qty1', 'qty2', 'qty3']\n",
    "        data['x1_for_m0'] = data['qty1']\n",
    "        data['x2_for_m0'] = data['qty2'].shift(1, axis=0)\n",
    "        data['x3_for_m0'] = data['qty3'].shift(2, axis=0)\n",
    "        data['x1_for_m1'] = data['qty2']\n",
    "        data['x2_for_m1'] = data['qty3'].shift(2, axis=0)\n",
    "        data['x1_for_m2'] = data['qty3']\n",
    "        data['Last_M0'] = data['qty'].shift(1, axis=0)\n",
    "        data['M0'] = data['qty']\n",
    "        data['M1'] = data['qty'].shift(-1, axis=0)\n",
    "        data['M2'] = data['qty'].shift(-2, axis=0)\n",
    "        data['M3'] = data['qty'].shift(-3, axis=0)\n",
    "        data = data.drop(['qty', 'qty1', 'qty2', 'qty3'], axis=1)\n",
    "        data = data.dropna(how='any', axis=0)\n",
    "\n",
    "        temp = np.zeros((42, 11))  # this should be modified\n",
    "        for i in range(1215, 1257):\n",
    "            try:\n",
    "                temp[i-1215] = data.loc[i].values\n",
    "            except:\n",
    "                continue\n",
    "        data_full.append(temp)\n",
    "    return data_full"
   ]
  },
  {
   "cell_type": "code",
   "execution_count": 4,
   "metadata": {},
   "outputs": [],
   "source": [
    "# data_full = process_original_with_last_1_m0()\n",
    "data_full = process_diagonal_with_last_1_m0()"
   ]
  },
  {
   "cell_type": "code",
   "execution_count": 5,
   "metadata": {},
   "outputs": [
    {
     "name": "stdout",
     "output_type": "stream",
     "text": [
      "The shape of X_train: (41256, 7)\n",
      "The shape of Y_train: (41256,)\n",
      "The shape of X_test: (6876, 7)\n",
      "The shape of Y_train: (6876,)\n"
     ]
    }
   ],
   "source": [
    "def split_m0(past_days):\n",
    "#     split_ind = 38  # if original\n",
    "    split_ind = 36  # if digonal\n",
    "    X_train, Y_train = [], []\n",
    "    X_test, Y_test = [], []\n",
    "\n",
    "    for ind in range(past_days, split_ind):\n",
    "        for item_ind in range(len(fnames)):\n",
    "            X_train.append(data_full[item_ind][ind - past_days: ind + 1][:,:-4])\n",
    "            Y_train.append(data_full[item_ind][ind][-4]) # change the number of y\n",
    "\n",
    "    for ind in range(split_ind, split_ind + 6):\n",
    "        for item_ind in range(len(fnames)):\n",
    "            X_test.append(data_full[item_ind][ind - past_days: ind + 1][:,:-4])\n",
    "            Y_test.append(data_full[item_ind][ind][-4]) # change the number of y\n",
    "    X_train, Y_train = np.array(X_train), np.array(Y_train)\n",
    "    X_test, Y_test = np.array(X_test), np.array(Y_test)\n",
    "    if past_days == 0:\n",
    "        X_train, Y_train, X_test, Y_test = \\\n",
    "        np.squeeze(X_train), np.squeeze(Y_train), np.squeeze(X_test), np.squeeze(Y_test) \n",
    "    print(\"The shape of X_train:\", X_train.shape)\n",
    "    print(\"The shape of Y_train:\", Y_train.shape)\n",
    "    print(\"The shape of X_test:\", X_test.shape)\n",
    "    print(\"The shape of Y_train:\", Y_test.shape)\n",
    "    return X_train, Y_train, X_test, Y_test\n",
    "\n",
    "X_train, Y_train, X_test, Y_test = split_m0(0) \n",
    "Y_test=Y_test.reshape(-1,1)"
   ]
  },
  {
   "cell_type": "code",
   "execution_count": 8,
   "metadata": {},
   "outputs": [],
   "source": [
    "def acc_out(item_index):\n",
    "    item_ytest = []\n",
    "    item_ypred = []\n",
    "    count = 0\n",
    "    for i in range(6):\n",
    "        item_ytest.append(Y_test[item_index+count*1146])\n",
    "        item_ypred.append(Y_pred_test[item_index+count*1146])\n",
    "        count += 1\n",
    "    acc = []\n",
    "    for i in range(6):\n",
    "        for index, value in enumerate(item_ypred[i]): \n",
    "            if  max(item_ytest[i][index], item_ypred[i][index]) == 0:\n",
    "                acc.append(np.nan)\n",
    "                continue\n",
    "            acc.append(np.divide(min(item_ytest[i][index], item_ypred[i][index]),\n",
    "                                 max(item_ytest[i][index], item_ypred[i][index])))\n",
    "    acc = np.array(acc)\n",
    "    acc = acc.reshape(6, 1)\n",
    "    return acc"
   ]
  },
  {
   "cell_type": "markdown",
   "metadata": {},
   "source": [
    "# Prediction of M0"
   ]
  },
  {
   "cell_type": "code",
   "execution_count": 19,
   "metadata": {},
   "outputs": [
    {
     "name": "stdout",
     "output_type": "stream",
     "text": [
      "[[0.62084974]\n",
      " [0.70827295]\n",
      " [0.69174722]\n",
      " [0.67712707]\n",
      " [0.6974861 ]\n",
      " [0.67774241]]\n",
      "                            OLS Regression Results                            \n",
      "==============================================================================\n",
      "Dep. Variable:                      y   R-squared:                       0.821\n",
      "Model:                            OLS   Adj. R-squared:                  0.821\n",
      "Method:                 Least Squares   F-statistic:                 3.158e+04\n",
      "Date:                Tue, 23 Jun 2020   Prob (F-statistic):               0.00\n",
      "Time:                        23:08:40   Log-Likelihood:                 34317.\n",
      "No. Observations:               41256   AIC:                        -6.862e+04\n",
      "Df Residuals:                   41249   BIC:                        -6.856e+04\n",
      "Df Model:                           6                                         \n",
      "Covariance Type:            nonrobust                                         \n",
      "==============================================================================\n",
      "                 coef    std err          t      P>|t|      [0.025      0.975]\n",
      "------------------------------------------------------------------------------\n",
      "const          0.0317      0.001     44.348      0.000       0.030       0.033\n",
      "x1             1.1827      0.004    294.577      0.000       1.175       1.191\n",
      "x2            -0.1897      0.010    -18.560      0.000      -0.210      -0.170\n",
      "x3             0.0001      0.008      0.017      0.986      -0.016       0.016\n",
      "x4            -0.0829      0.008    -11.004      0.000      -0.098      -0.068\n",
      "x5             0.0001      0.008      0.017      0.986      -0.016       0.016\n",
      "x6            -0.0604      0.013     -4.789      0.000      -0.085      -0.036\n",
      "x7             0.1482      0.002     59.477      0.000       0.143       0.153\n",
      "==============================================================================\n",
      "Omnibus:                    24412.769   Durbin-Watson:                   1.871\n",
      "Prob(Omnibus):                  0.000   Jarque-Bera (JB):           307985.129\n",
      "Skew:                           2.643   Prob(JB):                         0.00\n",
      "Kurtosis:                      15.297   Cond. No.                     2.50e+15\n",
      "==============================================================================\n",
      "\n",
      "Warnings:\n",
      "[1] Standard Errors assume that the covariance matrix of the errors is correctly specified.\n",
      "[2] The smallest eigenvalue is 7.12e-27. This might indicate that there are\n",
      "strong multicollinearity problems or that the design matrix is singular.\n"
     ]
    }
   ],
   "source": [
    "import statsmodels.api as sm\n",
    "\n",
    "X_train=sm.add_constant(X_train)\n",
    "X_test=sm.add_constant(X_test)\n",
    "model=sm.OLS(Y_train,X_train).fit()\n",
    "Y_pred_test = model.predict(X_test)\n",
    "Y_pred_test=Y_pred_test.reshape(-1,1)\n",
    "\n",
    "acc_list = []\n",
    "for i in range(1146):\n",
    "    acc_list.append(acc_out(i))\n",
    "acc_list = np.array(acc_list)\n",
    "print(np.nanmean(acc_list,axis=0))\n",
    "\n",
    "print_model = model.summary()\n",
    "print(print_model)"
   ]
  },
  {
   "cell_type": "markdown",
   "metadata": {},
   "source": [
    "# Prediction of M1"
   ]
  },
  {
   "cell_type": "code",
   "execution_count": 22,
   "metadata": {},
   "outputs": [
    {
     "name": "stdout",
     "output_type": "stream",
     "text": [
      "The shape of X_train: (41256, 7)\n",
      "The shape of Y_train: (41256,)\n",
      "The shape of X_test: (6876, 7)\n",
      "The shape of Y_train: (6876,)\n"
     ]
    }
   ],
   "source": [
    "def split_m1(past_days):\n",
    "#     split_ind = 38  # if original\n",
    "    split_ind = 36  # if digonal\n",
    "    X_train, Y_train = [], []\n",
    "    X_test, Y_test = [], []\n",
    "\n",
    "    for ind in range(past_days, split_ind):\n",
    "        for item_ind in range(len(fnames)):\n",
    "            X_train.append(data_full[item_ind][ind - past_days: ind + 1][:,:-4])\n",
    "            Y_train.append(data_full[item_ind][ind][-3]) # change the number of y\n",
    "\n",
    "    for ind in range(split_ind, split_ind + 6):\n",
    "        for item_ind in range(len(fnames)):\n",
    "            X_test.append(data_full[item_ind][ind - past_days: ind + 1][:,:-4])\n",
    "            Y_test.append(data_full[item_ind][ind][-3]) # change the number of y\n",
    "    X_train, Y_train = np.array(X_train), np.array(Y_train)\n",
    "    X_test, Y_test = np.array(X_test), np.array(Y_test)\n",
    "    if past_days == 0:\n",
    "        X_train, Y_train, X_test, Y_test = \\\n",
    "        np.squeeze(X_train), np.squeeze(Y_train), np.squeeze(X_test), np.squeeze(Y_test) \n",
    "    print(\"The shape of X_train:\", X_train.shape)\n",
    "    print(\"The shape of Y_train:\", Y_train.shape)\n",
    "    print(\"The shape of X_test:\", X_test.shape)\n",
    "    print(\"The shape of Y_train:\", Y_test.shape)\n",
    "    return X_train, Y_train, X_test, Y_test\n",
    "\n",
    "X_train, Y_train, X_test, Y_test = split_m1(0) \n",
    "Y_test=Y_test.reshape(-1,1)"
   ]
  },
  {
   "cell_type": "code",
   "execution_count": 23,
   "metadata": {},
   "outputs": [
    {
     "name": "stdout",
     "output_type": "stream",
     "text": [
      "[[0.58496147]\n",
      " [0.59918812]\n",
      " [0.49490029]\n",
      " [0.59278778]\n",
      " [0.58678644]\n",
      " [0.56544121]]\n",
      "                            OLS Regression Results                            \n",
      "==============================================================================\n",
      "Dep. Variable:                      y   R-squared:                       0.420\n",
      "Model:                            OLS   Adj. R-squared:                  0.420\n",
      "Method:                 Least Squares   F-statistic:                     4978.\n",
      "Date:                Tue, 23 Jun 2020   Prob (F-statistic):               0.00\n",
      "Time:                        23:10:20   Log-Likelihood:                 10009.\n",
      "No. Observations:               41256   AIC:                        -2.000e+04\n",
      "Df Residuals:                   41249   BIC:                        -1.994e+04\n",
      "Df Model:                           6                                         \n",
      "Covariance Type:            nonrobust                                         \n",
      "==============================================================================\n",
      "                 coef    std err          t      P>|t|      [0.025      0.975]\n",
      "------------------------------------------------------------------------------\n",
      "const          0.0809      0.001     62.818      0.000       0.078       0.083\n",
      "x1             0.3954      0.007     54.633      0.000       0.381       0.410\n",
      "x2            -0.3041      0.018    -16.506      0.000      -0.340      -0.268\n",
      "x3            -0.0377      0.015     -2.593      0.010      -0.066      -0.009\n",
      "x4             1.0104      0.014     74.432      0.000       0.984       1.037\n",
      "x5            -0.0377      0.015     -2.593      0.010      -0.066      -0.009\n",
      "x6            -0.0190      0.023     -0.838      0.402      -0.064       0.026\n",
      "x7             0.3070      0.004     68.325      0.000       0.298       0.316\n",
      "==============================================================================\n",
      "Omnibus:                    12656.298   Durbin-Watson:                   1.823\n",
      "Prob(Omnibus):                  0.000   Jarque-Bera (JB):            42358.553\n",
      "Skew:                           1.555   Prob(JB):                         0.00\n",
      "Kurtosis:                       6.869   Cond. No.                     2.50e+15\n",
      "==============================================================================\n",
      "\n",
      "Warnings:\n",
      "[1] Standard Errors assume that the covariance matrix of the errors is correctly specified.\n",
      "[2] The smallest eigenvalue is 7.12e-27. This might indicate that there are\n",
      "strong multicollinearity problems or that the design matrix is singular.\n"
     ]
    }
   ],
   "source": [
    "X_train=sm.add_constant(X_train)\n",
    "X_test=sm.add_constant(X_test)\n",
    "model=sm.OLS(Y_train,X_train).fit()\n",
    "Y_pred_test = model.predict(X_test)\n",
    "Y_pred_test=Y_pred_test.reshape(-1,1)\n",
    "\n",
    "acc_list = []\n",
    "for i in range(1146):\n",
    "    acc_list.append(acc_out(i))\n",
    "acc_list = np.array(acc_list)\n",
    "print(np.nanmean(acc_list,axis=0))\n",
    "\n",
    "print_model = model.summary()\n",
    "print(print_model)"
   ]
  },
  {
   "cell_type": "markdown",
   "metadata": {},
   "source": [
    "# Prediction of M2"
   ]
  },
  {
   "cell_type": "code",
   "execution_count": 24,
   "metadata": {},
   "outputs": [
    {
     "name": "stdout",
     "output_type": "stream",
     "text": [
      "The shape of X_train: (41256, 7)\n",
      "The shape of Y_train: (41256,)\n",
      "The shape of X_test: (6876, 7)\n",
      "The shape of Y_train: (6876,)\n"
     ]
    }
   ],
   "source": [
    "def split_m2(past_days):\n",
    "#     split_ind = 38  # if original\n",
    "    split_ind = 36  # if digonal\n",
    "    X_train, Y_train = [], []\n",
    "    X_test, Y_test = [], []\n",
    "\n",
    "    for ind in range(past_days, split_ind):\n",
    "        for item_ind in range(len(fnames)):\n",
    "            X_train.append(data_full[item_ind][ind - past_days: ind + 1][:,:-4])\n",
    "            Y_train.append(data_full[item_ind][ind][-2]) # change the number of y\n",
    "\n",
    "    for ind in range(split_ind, split_ind + 6):\n",
    "        for item_ind in range(len(fnames)):\n",
    "            X_test.append(data_full[item_ind][ind - past_days: ind + 1][:,:-4])\n",
    "            Y_test.append(data_full[item_ind][ind][-2]) # change the number of y\n",
    "    X_train, Y_train = np.array(X_train), np.array(Y_train)\n",
    "    X_test, Y_test = np.array(X_test), np.array(Y_test)\n",
    "    if past_days == 0:\n",
    "        X_train, Y_train, X_test, Y_test = \\\n",
    "        np.squeeze(X_train), np.squeeze(Y_train), np.squeeze(X_test), np.squeeze(Y_test) \n",
    "    print(\"The shape of X_train:\", X_train.shape)\n",
    "    print(\"The shape of Y_train:\", Y_train.shape)\n",
    "    print(\"The shape of X_test:\", X_test.shape)\n",
    "    print(\"The shape of Y_train:\", Y_test.shape)\n",
    "    return X_train, Y_train, X_test, Y_test\n",
    "\n",
    "X_train, Y_train, X_test, Y_test = split_m2(0) \n",
    "Y_test=Y_test.reshape(-1,1)"
   ]
  },
  {
   "cell_type": "code",
   "execution_count": 25,
   "metadata": {},
   "outputs": [
    {
     "name": "stdout",
     "output_type": "stream",
     "text": [
      "[[0.55641928]\n",
      " [0.48493321]\n",
      " [0.56641321]\n",
      " [0.56795342]\n",
      " [0.56969181]\n",
      " [0.55267561]]\n",
      "                            OLS Regression Results                            \n",
      "==============================================================================\n",
      "Dep. Variable:                      y   R-squared:                       0.338\n",
      "Model:                            OLS   Adj. R-squared:                  0.338\n",
      "Method:                 Least Squares   F-statistic:                     3508.\n",
      "Date:                Tue, 23 Jun 2020   Prob (F-statistic):               0.00\n",
      "Time:                        23:11:24   Log-Likelihood:                 7208.3\n",
      "No. Observations:               41256   AIC:                        -1.440e+04\n",
      "Df Residuals:                   41249   BIC:                        -1.434e+04\n",
      "Df Model:                           6                                         \n",
      "Covariance Type:            nonrobust                                         \n",
      "==============================================================================\n",
      "                 coef    std err          t      P>|t|      [0.025      0.975]\n",
      "------------------------------------------------------------------------------\n",
      "const          0.0945      0.001     68.566      0.000       0.092       0.097\n",
      "x1             0.3755      0.008     48.475      0.000       0.360       0.391\n",
      "x2            -0.2857      0.020    -14.489      0.000      -0.324      -0.247\n",
      "x3            -0.0525      0.016     -3.368      0.001      -0.083      -0.022\n",
      "x4             0.1131      0.015      7.785      0.000       0.085       0.142\n",
      "x5            -0.0525      0.016     -3.368      0.001      -0.083      -0.022\n",
      "x6             1.0999      0.024     45.225      0.000       1.052       1.148\n",
      "x7             0.3426      0.005     71.248      0.000       0.333       0.352\n",
      "==============================================================================\n",
      "Omnibus:                    11376.920   Durbin-Watson:                   1.856\n",
      "Prob(Omnibus):                  0.000   Jarque-Bera (JB):            32326.610\n",
      "Skew:                           1.458   Prob(JB):                         0.00\n",
      "Kurtosis:                       6.210   Cond. No.                     2.50e+15\n",
      "==============================================================================\n",
      "\n",
      "Warnings:\n",
      "[1] Standard Errors assume that the covariance matrix of the errors is correctly specified.\n",
      "[2] The smallest eigenvalue is 7.12e-27. This might indicate that there are\n",
      "strong multicollinearity problems or that the design matrix is singular.\n"
     ]
    }
   ],
   "source": [
    "X_train=sm.add_constant(X_train)\n",
    "X_test=sm.add_constant(X_test)\n",
    "model=sm.OLS(Y_train,X_train).fit()\n",
    "Y_pred_test = model.predict(X_test)\n",
    "Y_pred_test=Y_pred_test.reshape(-1,1)\n",
    "\n",
    "acc_list = []\n",
    "for i in range(1146):\n",
    "    acc_list.append(acc_out(i))\n",
    "acc_list = np.array(acc_list)\n",
    "print(np.nanmean(acc_list,axis=0))\n",
    "\n",
    "print_model = model.summary()\n",
    "print(print_model)"
   ]
  },
  {
   "cell_type": "markdown",
   "metadata": {},
   "source": [
    "# Prediction of M3"
   ]
  },
  {
   "cell_type": "code",
   "execution_count": 26,
   "metadata": {},
   "outputs": [
    {
     "name": "stdout",
     "output_type": "stream",
     "text": [
      "The shape of X_train: (41256, 7)\n",
      "The shape of Y_train: (41256,)\n",
      "The shape of X_test: (6876, 7)\n",
      "The shape of Y_train: (6876,)\n"
     ]
    }
   ],
   "source": [
    "def split_m3(past_days):\n",
    "#     split_ind = 38  # if original\n",
    "    split_ind = 36  # if digonal\n",
    "    X_train, Y_train = [], []\n",
    "    X_test, Y_test = [], []\n",
    "\n",
    "    for ind in range(past_days, split_ind):\n",
    "        for item_ind in range(len(fnames)):\n",
    "            X_train.append(data_full[item_ind][ind - past_days: ind + 1][:,:-4])\n",
    "            Y_train.append(data_full[item_ind][ind][-1]) # change the number of y\n",
    "\n",
    "    for ind in range(split_ind, split_ind + 6):\n",
    "        for item_ind in range(len(fnames)):\n",
    "            X_test.append(data_full[item_ind][ind - past_days: ind + 1][:,:-4])\n",
    "            Y_test.append(data_full[item_ind][ind][-1]) # change the number of y\n",
    "    X_train, Y_train = np.array(X_train), np.array(Y_train)\n",
    "    X_test, Y_test = np.array(X_test), np.array(Y_test)\n",
    "    if past_days == 0:\n",
    "        X_train, Y_train, X_test, Y_test = \\\n",
    "        np.squeeze(X_train), np.squeeze(Y_train), np.squeeze(X_test), np.squeeze(Y_test) \n",
    "    print(\"The shape of X_train:\", X_train.shape)\n",
    "    print(\"The shape of Y_train:\", Y_train.shape)\n",
    "    print(\"The shape of X_test:\", X_test.shape)\n",
    "    print(\"The shape of Y_train:\", Y_test.shape)\n",
    "    return X_train, Y_train, X_test, Y_test\n",
    "\n",
    "X_train, Y_train, X_test, Y_test = split_m3(0) \n",
    "Y_test=Y_test.reshape(-1,1)"
   ]
  },
  {
   "cell_type": "code",
   "execution_count": 27,
   "metadata": {},
   "outputs": [
    {
     "name": "stdout",
     "output_type": "stream",
     "text": [
      "[[0.44996456]\n",
      " [0.55185305]\n",
      " [0.55075342]\n",
      " [0.55005702]\n",
      " [0.5636868 ]\n",
      " [0.50481337]]\n",
      "                            OLS Regression Results                            \n",
      "==============================================================================\n",
      "Dep. Variable:                      y   R-squared:                       0.263\n",
      "Model:                            OLS   Adj. R-squared:                  0.263\n",
      "Method:                 Least Squares   F-statistic:                     2449.\n",
      "Date:                Tue, 23 Jun 2020   Prob (F-statistic):               0.00\n",
      "Time:                        23:12:34   Log-Likelihood:                 4933.7\n",
      "No. Observations:               41256   AIC:                            -9853.\n",
      "Df Residuals:                   41249   BIC:                            -9793.\n",
      "Df Model:                           6                                         \n",
      "Covariance Type:            nonrobust                                         \n",
      "==============================================================================\n",
      "                 coef    std err          t      P>|t|      [0.025      0.975]\n",
      "------------------------------------------------------------------------------\n",
      "const          0.1097      0.001     75.317      0.000       0.107       0.113\n",
      "x1             0.3895      0.008     47.589      0.000       0.373       0.406\n",
      "x2            -0.2526      0.021    -12.123      0.000      -0.293      -0.212\n",
      "x3            -0.0035      0.016     -0.210      0.834      -0.036       0.029\n",
      "x4             0.1193      0.015      7.770      0.000       0.089       0.149\n",
      "x5            -0.0035      0.016     -0.210      0.834      -0.036       0.029\n",
      "x6             0.2876      0.026     11.189      0.000       0.237       0.338\n",
      "x7             0.3103      0.005     61.082      0.000       0.300       0.320\n",
      "==============================================================================\n",
      "Omnibus:                    10434.778   Durbin-Watson:                   1.859\n",
      "Prob(Omnibus):                  0.000   Jarque-Bera (JB):            25832.762\n",
      "Skew:                           1.396   Prob(JB):                         0.00\n",
      "Kurtosis:                       5.689   Cond. No.                     2.50e+15\n",
      "==============================================================================\n",
      "\n",
      "Warnings:\n",
      "[1] Standard Errors assume that the covariance matrix of the errors is correctly specified.\n",
      "[2] The smallest eigenvalue is 7.12e-27. This might indicate that there are\n",
      "strong multicollinearity problems or that the design matrix is singular.\n"
     ]
    }
   ],
   "source": [
    "X_train=sm.add_constant(X_train)\n",
    "X_test=sm.add_constant(X_test)\n",
    "model=sm.OLS(Y_train,X_train).fit()\n",
    "Y_pred_test = model.predict(X_test)\n",
    "Y_pred_test=Y_pred_test.reshape(-1,1)\n",
    "\n",
    "acc_list = []\n",
    "for i in range(1146):\n",
    "    acc_list.append(acc_out(i))\n",
    "acc_list = np.array(acc_list)\n",
    "print(np.nanmean(acc_list,axis=0))\n",
    "\n",
    "print_model = model.summary()\n",
    "print(print_model)"
   ]
  },
  {
   "cell_type": "code",
   "execution_count": null,
   "metadata": {},
   "outputs": [],
   "source": []
  }
 ],
 "metadata": {
  "kernelspec": {
   "display_name": "Python 3",
   "language": "python",
   "name": "python3"
  },
  "language_info": {
   "codemirror_mode": {
    "name": "ipython",
    "version": 3
   },
   "file_extension": ".py",
   "mimetype": "text/x-python",
   "name": "python",
   "nbconvert_exporter": "python",
   "pygments_lexer": "ipython3",
   "version": "3.7.0"
  }
 },
 "nbformat": 4,
 "nbformat_minor": 2
}
